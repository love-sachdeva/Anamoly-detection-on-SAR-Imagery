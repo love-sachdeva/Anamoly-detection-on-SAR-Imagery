{
 "cells": [
  {
   "cell_type": "code",
   "execution_count": 3,
   "id": "984b2cb9",
   "metadata": {},
   "outputs": [],
   "source": [
    "import os\n",
    "import numpy as np\n",
    "from tensorflow import keras\n",
    "from sklearn.model_selection import train_test_split\n",
    "import cv2\n",
    "from PIL import Image\n",
    "import h5py"
   ]
  },
  {
   "cell_type": "code",
   "execution_count": 5,
   "id": "b5c7715d",
   "metadata": {},
   "outputs": [
    {
     "name": "stdout",
     "output_type": "stream",
     "text": [
      "[name: \"/device:CPU:0\"\n",
      "device_type: \"CPU\"\n",
      "memory_limit: 268435456\n",
      "locality {\n",
      "}\n",
      "incarnation: 17069979618880343513\n",
      "xla_global_id: -1\n",
      ", name: \"/device:GPU:0\"\n",
      "device_type: \"GPU\"\n",
      "memory_limit: 4158062592\n",
      "locality {\n",
      "  bus_id: 1\n",
      "  links {\n",
      "  }\n",
      "}\n",
      "incarnation: 6561061539952742558\n",
      "physical_device_desc: \"device: 0, name: NVIDIA GeForce RTX 2060, pci bus id: 0000:01:00.0, compute capability: 7.5\"\n",
      "xla_global_id: 416903419\n",
      "]\n"
     ]
    }
   ],
   "source": [
    "from tensorflow.python.client import device_lib\n",
    "print(device_lib.list_local_devices())"
   ]
  },
  {
   "cell_type": "code",
   "execution_count": 17,
   "id": "750edb53",
   "metadata": {},
   "outputs": [],
   "source": [
    "!mkdir RetinanetTutorial"
   ]
  },
  {
   "cell_type": "code",
   "execution_count": 21,
   "id": "451a5ad4",
   "metadata": {},
   "outputs": [
    {
     "name": "stderr",
     "output_type": "stream",
     "text": [
      "Cloning into 'keras-retinanet'...\n"
     ]
    }
   ],
   "source": [
    "os.chdir(r\"D:\\notebooks\\RetinanetTutorial\")\n",
    "!git clone https://github.com/fizyr/keras-retinanet.git"
   ]
  },
  {
   "cell_type": "code",
   "execution_count": 54,
   "id": "c19bc804",
   "metadata": {},
   "outputs": [
    {
     "name": "stdout",
     "output_type": "stream",
     "text": [
      "['boat0' 'boat1' 'boat10' 'boat100' 'boat101' 'boat102' 'boat103'\n",
      " 'boat104' 'boat105' 'boat106' 'boat107' 'boat108' 'boat109' 'boat11'\n",
      " 'boat110' 'boat111' 'boat112' 'boat113' 'boat114' 'boat115' 'boat116'\n",
      " 'boat117' 'boat118' 'boat119' 'boat12' 'boat120' 'boat121' 'boat122'\n",
      " 'boat123' 'boat124' 'boat125' 'boat126' 'boat127' 'boat128' 'boat129'\n",
      " 'boat13' 'boat130' 'boat131' 'boat132' 'boat133' 'boat134' 'boat135'\n",
      " 'boat136' 'boat137' 'boat138' 'boat139' 'boat14' 'boat140' 'boat141'\n",
      " 'boat142' 'boat143' 'boat144' 'boat145' 'boat146' 'boat147' 'boat148'\n",
      " 'boat149' 'boat15' 'boat150' 'boat151' 'boat152' 'boat153' 'boat154'\n",
      " 'boat155' 'boat156' 'boat157' 'boat158' 'boat159' 'boat16' 'boat160'\n",
      " 'boat161' 'boat162' 'boat163' 'boat164' 'boat165' 'boat166' 'boat167'\n",
      " 'boat168' 'boat169' 'boat17' 'boat170' 'boat171' 'boat172' 'boat173'\n",
      " 'boat174' 'boat175' 'boat176' 'boat177' 'boat178' 'boat179' 'boat18'\n",
      " 'boat180' 'boat181' 'boat182' 'boat183' 'boat184' 'boat185' 'boat186'\n",
      " 'boat187' 'boat188' 'boat189' 'boat19' 'boat190' 'boat191' 'boat192'\n",
      " 'boat193' 'boat194' 'boat195' 'boat196' 'boat197' 'boat198' 'boat199'\n",
      " 'boat2' 'boat20' 'boat200' 'boat201' 'boat202' 'boat203' 'boat204'\n",
      " 'boat205' 'boat206' 'boat207' 'boat208' 'boat209' 'boat21' 'boat210'\n",
      " 'boat211' 'boat212' 'boat213' 'boat214' 'boat215' 'boat216' 'boat217'\n",
      " 'boat218' 'boat219' 'boat22' 'boat220' 'boat221' 'boat222' 'boat223'\n",
      " 'boat224' 'boat225' 'boat226' 'boat227' 'boat228' 'boat229' 'boat23'\n",
      " 'boat230' 'boat231' 'boat232' 'boat233' 'boat235' 'boat236' 'boat237'\n",
      " 'boat238' 'boat239' 'boat24' 'boat240' 'boat241' 'boat242' 'boat243'\n",
      " 'boat244' 'boat245' 'boat247' 'boat248' 'boat249' 'boat25' 'boat250'\n",
      " 'boat251' 'boat253' 'boat255' 'boat256' 'boat257' 'boat258' 'boat259'\n",
      " 'boat26' 'boat261' 'boat262' 'boat263' 'boat264' 'boat265' 'boat266'\n",
      " 'boat269' 'boat27' 'boat270' 'boat271' 'boat273' 'boat274' 'boat275'\n",
      " 'boat276' 'boat277' 'boat278' 'boat279' 'boat28' 'boat280' 'boat281'\n",
      " 'boat283' 'boat284' 'boat285' 'boat286' 'boat287' 'boat288' 'boat289'\n",
      " 'boat29' 'boat290' 'boat291' 'boat292' 'boat293' 'boat294' 'boat295'\n",
      " 'boat297' 'boat298' 'boat299' 'boat3' 'boat30' 'boat300' 'boat301'\n",
      " 'boat302' 'boat303' 'boat304' 'boat305' 'boat306' 'boat307' 'boat309'\n",
      " 'boat31' 'boat310' 'boat311' 'boat312' 'boat316' 'boat317' 'boat319'\n",
      " 'boat32' 'boat320' 'boat321' 'boat322' 'boat323' 'boat324' 'boat325'\n",
      " 'boat326' 'boat327' 'boat328' 'boat33' 'boat331' 'boat332' 'boat334'\n",
      " 'boat335' 'boat336' 'boat337' 'boat338' 'boat339' 'boat34' 'boat342'\n",
      " 'boat343' 'boat344' 'boat346' 'boat347' 'boat348' 'boat349' 'boat35'\n",
      " 'boat350' 'boat353' 'boat356' 'boat357' 'boat358' 'boat359' 'boat36'\n",
      " 'boat360' 'boat361' 'boat362' 'boat363' 'boat364' 'boat365' 'boat366'\n",
      " 'boat367' 'boat368' 'boat369' 'boat37' 'boat371' 'boat372' 'boat373'\n",
      " 'boat374' 'boat375' 'boat376' 'boat378' 'boat379' 'boat38' 'boat380'\n",
      " 'boat381' 'boat382' 'boat384' 'boat386' 'boat389' 'boat39' 'boat390'\n",
      " 'boat391' 'boat393' 'boat394' 'boat395' 'boat396' 'boat397' 'boat399'\n",
      " 'boat4' 'boat40' 'boat401' 'boat402' 'boat403' 'boat404' 'boat405'\n",
      " 'boat406' 'boat407' 'boat408' 'boat409' 'boat41' 'boat411' 'boat412'\n",
      " 'boat413' 'boat414' 'boat415' 'boat416' 'boat418' 'boat419' 'boat42'\n",
      " 'boat420' 'boat421' 'boat423' 'boat424' 'boat425' 'boat428' 'boat429'\n",
      " 'boat43' 'boat430' 'boat431' 'boat432' 'boat433' 'boat434' 'boat435'\n",
      " 'boat436' 'boat437' 'boat438' 'boat439' 'boat44' 'boat440' 'boat441'\n",
      " 'boat442' 'boat443' 'boat444' 'boat445' 'boat446' 'boat447' 'boat448'\n",
      " 'boat449' 'boat45' 'boat450' 'boat451' 'boat453' 'boat454' 'boat455'\n",
      " 'boat456' 'boat457' 'boat458' 'boat459' 'boat46' 'boat460' 'boat462'\n",
      " 'boat463' 'boat465' 'boat466' 'boat468' 'boat469' 'boat47' 'boat471'\n",
      " 'boat472' 'boat473' 'boat474' 'boat475' 'boat476' 'boat477' 'boat478'\n",
      " 'boat479' 'boat48' 'boat480' 'boat481' 'boat482' 'boat483' 'boat484'\n",
      " 'boat486' 'boat487' 'boat488' 'boat489' 'boat49' 'boat491' 'boat492'\n",
      " 'boat494' 'boat495' 'boat496' 'boat498' 'boat499' 'boat5' 'boat50'\n",
      " 'boat500' 'boat501' 'boat502' 'boat503' 'boat505' 'boat506' 'boat507'\n",
      " 'boat509' 'boat51' 'boat510' 'boat511' 'boat512' 'boat513' 'boat515'\n",
      " 'boat517' 'boat519' 'boat52' 'boat520' 'boat521' 'boat522' 'boat523'\n",
      " 'boat525' 'boat526' 'boat527' 'boat528' 'boat529' 'boat53' 'boat532'\n",
      " 'boat533' 'boat534' 'boat535' 'boat536' 'boat537' 'boat538' 'boat539'\n",
      " 'boat54' 'boat540' 'boat541' 'boat542' 'boat543' 'boat544' 'boat545'\n",
      " 'boat546' 'boat548' 'boat549' 'boat55' 'boat550' 'boat552' 'boat553'\n",
      " 'boat554' 'boat555' 'boat556' 'boat557' 'boat558' 'boat559' 'boat56'\n",
      " 'boat560' 'boat562' 'boat563' 'boat564' 'boat565' 'boat566' 'boat567'\n",
      " 'boat568' 'boat57' 'boat570' 'boat571' 'boat572' 'boat573' 'boat574'\n",
      " 'boat575' 'boat576' 'boat577' 'boat578' 'boat579' 'boat58' 'boat580'\n",
      " 'boat581' 'boat583' 'boat584' 'boat585' 'boat586' 'boat587' 'boat588'\n",
      " 'boat589' 'boat59' 'boat590' 'boat591' 'boat592' 'boat593' 'boat594'\n",
      " 'boat595' 'boat596' 'boat597' 'boat598' 'boat599' 'boat6' 'boat60'\n",
      " 'boat600' 'boat601' 'boat602' 'boat603' 'boat604' 'boat605' 'boat606'\n",
      " 'boat608' 'boat609' 'boat61' 'boat610' 'boat611' 'boat612' 'boat613'\n",
      " 'boat614' 'boat615' 'boat616' 'boat617' 'boat618' 'boat619' 'boat62'\n",
      " 'boat620' 'boat621' 'boat622' 'boat623' 'boat625' 'boat626' 'boat627'\n",
      " 'boat628' 'boat629' 'boat63' 'boat630' 'boat633' 'boat634' 'boat635'\n",
      " 'boat636' 'boat637' 'boat638' 'boat64' 'boat641' 'boat642' 'boat643'\n",
      " 'boat644' 'boat645' 'boat646' 'boat647' 'boat648' 'boat649' 'boat65'\n",
      " 'boat651' 'boat652' 'boat653' 'boat654' 'boat655' 'boat656' 'boat657'\n",
      " 'boat658' 'boat659' 'boat66' 'boat660' 'boat661' 'boat662' 'boat663'\n",
      " 'boat664' 'boat665' 'boat666' 'boat669' 'boat67' 'boat670' 'boat671'\n",
      " 'boat672' 'boat673' 'boat675' 'boat676' 'boat677' 'boat678' 'boat679'\n",
      " 'boat68' 'boat680' 'boat681' 'boat682' 'boat683' 'boat685' 'boat687'\n",
      " 'boat688' 'boat689' 'boat69' 'boat690' 'boat691' 'boat692' 'boat693'\n",
      " 'boat7' 'boat70' 'boat71' 'boat72' 'boat73' 'boat74' 'boat75' 'boat76'\n",
      " 'boat77' 'boat78' 'boat79' 'boat8' 'boat80' 'boat81' 'boat82' 'boat83'\n",
      " 'boat84' 'boat85' 'boat86' 'boat87' 'boat88' 'boat89' 'boat9' 'boat90'\n",
      " 'boat91' 'boat92' 'boat93' 'boat94' 'boat95' 'boat96' 'boat97' 'boat98'\n",
      " 'boat99']\n"
     ]
    }
   ],
   "source": [
    "os.chdir(r\"D:\\notebooks\\RetinanetTutorial/SAR Dataset/images\")\n",
    "data=np.empty(len(os.listdir()),dtype='object')\n",
    "for i,j in zip(os.listdir(),range(len(os.listdir()))):\n",
    "    data[j]=\"{}\".format(i.strip('.png'))\n",
    "print(data)"
   ]
  },
  {
   "cell_type": "code",
   "execution_count": 66,
   "id": "2f0acd69",
   "metadata": {},
   "outputs": [],
   "source": [
    "os.chdir(r\"D:\\notebooks\\RetinanetTutorial/SAR Dataset/ImageSets/Main\")\n",
    "f=open(\"trainval.txt\",\"w+\")\n",
    "os.listdir()\n",
    "for i in data:\n",
    "    f.write(\"{}\\n\".format((i)))\n",
    "f.close()"
   ]
  },
  {
   "cell_type": "code",
   "execution_count": 88,
   "id": "18e2ee5f",
   "metadata": {},
   "outputs": [
    {
     "name": "stdout",
     "output_type": "stream",
     "text": [
      "train:446, val:112, test:63\n"
     ]
    }
   ],
   "source": [
    "train,test = train_test_split(data,test_size=0.1,shuffle=True,random_state=8)\n",
    "train,val = train_test_split(train,test_size=0.2,shuffle=True,random_state=8)\n",
    "print('train:{}, val:{}, test:{}'.format(len(train),len(val),len(test)))"
   ]
  },
  {
   "cell_type": "code",
   "execution_count": 90,
   "id": "881b5447",
   "metadata": {},
   "outputs": [],
   "source": [
    "os.chdir(r\"D:\\notebooks\\RetinanetTutorial/SAR Dataset/ImageSets/Main\")\n",
    "trainf = open(\"train.txt\",\"w+\")\n",
    "valf = open(\"val.txt\",\"w+\")\n",
    "testf = open(\"test.txt\",\"w+\")\n",
    "for i in train:\n",
    "    trainf.write(\"{}\\n\".format(i))\n",
    "for i in val:\n",
    "    valf.write(\"{}\\n\".format(i))\n",
    "for i in test:\n",
    "    testf.write(\"{}\\n\".format(i))\n",
    "trainf.close()\n",
    "valf.close()\n",
    "testf.close()"
   ]
  },
  {
   "cell_type": "code",
   "execution_count": 24,
   "id": "f9fa2a68",
   "metadata": {},
   "outputs": [],
   "source": [
    "os.chdir(r\"D:\\notebooks\\RetinanetTutorial\\SAR_Dataset\\images\")\n",
    "for i in os.listdir():\n",
    "    img_png = Image.open(\"D:/notebooks/RetinanetTutorial/SAR_Dataset/images/{}.png\".format(i.strip('.png')))\n",
    "    img_png = img_png.convert('RGB')\n",
    "    img_png.save(\"D:/notebooks/RetinanetTutorial/SAR_Dataset/JPEGImages/{}.jpg\".format(i.strip('.png')))"
   ]
  },
  {
   "cell_type": "code",
   "execution_count": 102,
   "id": "97f6c3ec",
   "metadata": {},
   "outputs": [],
   "source": [
    "!mkdir D:\\notebooks\\RetinanetTutorial\\Output\\Snapshots"
   ]
  },
  {
   "cell_type": "code",
   "execution_count": 29,
   "id": "45af2f40",
   "metadata": {},
   "outputs": [
    {
     "name": "stdout",
     "output_type": "stream",
     "text": [
      "Writing pascal_voc.py\n"
     ]
    }
   ],
   "source": [
    "%%writefile pascal_voc.py\n",
    "# %load pascal_voc.py\n",
    "\"\"\"\n",
    "Copyright 2017-2018 Fizyr (https://fizyr.com)\n",
    "\n",
    "Licensed under the Apache License, Version 2.0 (the \"License\");\n",
    "you may not use this file except in compliance with the License.\n",
    "You may obtain a copy of the License at\n",
    "\n",
    "    http://www.apache.org/licenses/LICENSE-2.0\n",
    "\n",
    "Unless required by applicable law or agreed to in writing, software\n",
    "distributed under the License is distributed on an \"AS IS\" BASIS,\n",
    "WITHOUT WARRANTIES OR CONDITIONS OF ANY KIND, either express or implied.\n",
    "See the License for the specific language governing permissions and\n",
    "limitations under the License.\n",
    "\"\"\"\n",
    "\n",
    "from ..preprocessing.generator import Generator\n",
    "from ..utils.image import read_image_bgr\n",
    "\n",
    "import os\n",
    "import numpy as np\n",
    "from six import raise_from\n",
    "from PIL import Image\n",
    "\n",
    "try:\n",
    "    import xml.etree.cElementTree as ET\n",
    "except ImportError:\n",
    "    import xml.etree.ElementTree as ET\n",
    "\n",
    "voc_classes = {\n",
    "    'boat'   : 0\n",
    "}\n",
    "\n",
    "\n",
    "def _findNode(parent, name, debug_name=None, parse=None):\n",
    "    if debug_name is None:\n",
    "        debug_name = name\n",
    "\n",
    "    result = parent.find(name)\n",
    "    if result is None:\n",
    "        raise ValueError('missing element \\'{}\\''.format(debug_name))\n",
    "    if parse is not None:\n",
    "        try:\n",
    "            return parse(result.text)\n",
    "        except ValueError as e:\n",
    "            raise_from(ValueError('illegal value for \\'{}\\': {}'.format(debug_name, e)), None)\n",
    "    return result\n",
    "\n",
    "\n",
    "class PascalVocGenerator(Generator):\n",
    "    \"\"\" Generate data for a Pascal VOC dataset.\n",
    "\n",
    "    See http://host.robots.ox.ac.uk/pascal/VOC/ for more information.\n",
    "    \"\"\"\n",
    "\n",
    "    def __init__(\n",
    "        self,\n",
    "        data_dir,\n",
    "        set_name,\n",
    "        classes=voc_classes,\n",
    "        image_extension='.jpg',\n",
    "        skip_truncated=False,\n",
    "        skip_difficult=False,\n",
    "        **kwargs\n",
    "    ):\n",
    "        \"\"\" Initialize a Pascal VOC data generator.\n",
    "\n",
    "        Args\n",
    "            base_dir: Directory w.r.t. where the files are to be searched (defaults to the directory containing the csv_data_file).\n",
    "            csv_class_file: Path to the CSV classes file.\n",
    "        \"\"\"\n",
    "        self.data_dir             = data_dir\n",
    "        self.set_name             = set_name\n",
    "        self.classes              = classes\n",
    "        self.image_names          = [line.strip().split(None, 1)[0] for line in open(os.path.join(data_dir, 'ImageSets', 'Main', set_name + '.txt')).readlines()]\n",
    "        self.image_extension      = image_extension\n",
    "        self.skip_truncated       = skip_truncated\n",
    "        self.skip_difficult       = skip_difficult\n",
    "\n",
    "        self.labels = {}\n",
    "        for key, value in self.classes.items():\n",
    "            self.labels[value] = key\n",
    "\n",
    "        super(PascalVocGenerator, self).__init__(**kwargs)\n",
    "\n",
    "    def size(self):\n",
    "        \"\"\" Size of the dataset.\n",
    "        \"\"\"\n",
    "        return len(self.image_names)\n",
    "\n",
    "    def num_classes(self):\n",
    "        \"\"\" Number of classes in the dataset.\n",
    "        \"\"\"\n",
    "        return len(self.classes)\n",
    "\n",
    "    def has_label(self, label):\n",
    "        \"\"\" Return True if label is a known label.\n",
    "        \"\"\"\n",
    "        return label in self.labels\n",
    "\n",
    "    def has_name(self, name):\n",
    "        \"\"\" Returns True if name is a known class.\n",
    "        \"\"\"\n",
    "        return name in self.classes\n",
    "\n",
    "    def name_to_label(self, name):\n",
    "        \"\"\" Map name to label.\n",
    "        \"\"\"\n",
    "        return self.classes[name]\n",
    "\n",
    "    def label_to_name(self, label):\n",
    "        \"\"\" Map label to name.\n",
    "        \"\"\"\n",
    "        return self.labels[label]\n",
    "\n",
    "    def image_aspect_ratio(self, image_index):\n",
    "        \"\"\" Compute the aspect ratio for an image with image_index.\n",
    "        \"\"\"\n",
    "        path  = os.path.join(self.data_dir, 'JPEGImages', self.image_names[image_index] + self.image_extension)\n",
    "        image = Image.open(path)\n",
    "        return float(image.width) / float(image.height)\n",
    "\n",
    "    def image_path(self, image_index):\n",
    "        \"\"\" Get the path to an image.\n",
    "        \"\"\"\n",
    "        return os.path.join(self.data_dir, 'JPEGImages', self.image_names[image_index] + self.image_extension)\n",
    "\n",
    "    def load_image(self, image_index):\n",
    "        \"\"\" Load an image at the image_index.\n",
    "        \"\"\"\n",
    "        return read_image_bgr(self.image_path(image_index))\n",
    "\n",
    "    def __parse_annotation(self, element):\n",
    "        \"\"\" Parse an annotation given an XML element.\n",
    "        \"\"\"\n",
    "        truncated = _findNode(element, 'truncated', parse=int)\n",
    "        difficult = _findNode(element, 'difficult', parse=int)\n",
    "\n",
    "        class_name = _findNode(element, 'name').text\n",
    "        if class_name not in self.classes:\n",
    "            raise ValueError('class name \\'{}\\' not found in classes: {}'.format(class_name, list(self.classes.keys())))\n",
    "\n",
    "        box = np.zeros((4,))\n",
    "        label = self.name_to_label(class_name)\n",
    "\n",
    "        bndbox    = _findNode(element, 'bndbox')\n",
    "        box[0] = _findNode(bndbox, 'xmin', 'bndbox.xmin', parse=float) - 1\n",
    "        box[1] = _findNode(bndbox, 'ymin', 'bndbox.ymin', parse=float) - 1\n",
    "        box[2] = _findNode(bndbox, 'xmax', 'bndbox.xmax', parse=float) - 1\n",
    "        box[3] = _findNode(bndbox, 'ymax', 'bndbox.ymax', parse=float) - 1\n",
    "\n",
    "        return truncated, difficult, box, label\n",
    "\n",
    "    def __parse_annotations(self, xml_root):\n",
    "        \"\"\" Parse all annotations under the xml_root.\n",
    "        \"\"\"\n",
    "        annotations = {'labels': np.empty((len(xml_root.findall('object')),)), 'bboxes': np.empty((len(xml_root.findall('object')), 4))}\n",
    "        for i, element in enumerate(xml_root.iter('object')):\n",
    "            try:\n",
    "                truncated, difficult, box, label = self.__parse_annotation(element)\n",
    "            except ValueError as e:\n",
    "                raise_from(ValueError('could not parse object #{}: {}'.format(i, e)), None)\n",
    "\n",
    "            if truncated and self.skip_truncated:\n",
    "                continue\n",
    "            if difficult and self.skip_difficult:\n",
    "                continue\n",
    "\n",
    "            annotations['bboxes'][i, :] = box\n",
    "            annotations['labels'][i] = label\n",
    "\n",
    "        return annotations\n",
    "\n",
    "    def load_annotations(self, image_index):\n",
    "        \"\"\" Load annotations for an image_index.\n",
    "        \"\"\"\n",
    "        filename = self.image_names[image_index] + '.xml'\n",
    "        try:\n",
    "            tree = ET.parse(os.path.join(self.data_dir, 'Annotations', filename))\n",
    "            return self.__parse_annotations(tree.getroot())\n",
    "        except ET.ParseError as e:\n",
    "            raise_from(ValueError('invalid annotations file: {}: {}'.format(filename, e)), None)\n",
    "        except ValueError as e:\n",
    "            raise_from(ValueError('invalid annotations file: {}: {}'.format(filename, e)), None)\n"
   ]
  },
  {
   "cell_type": "code",
   "execution_count": 149,
   "id": "f5362a05",
   "metadata": {},
   "outputs": [
    {
     "name": "stdout",
     "output_type": "stream",
     "text": [
      "Processing d:\\notebooks\\retinanettutorial\\keras-retinanet\n",
      "Requirement already satisfied: keras-resnet==0.2.0 in c:\\users\\acer\\appdata\\roaming\\python\\python38\\site-packages (from keras-retinanet==1.0.0) (0.2.0)\n",
      "Requirement already satisfied: six in d:\\anaconda3\\lib\\site-packages (from keras-retinanet==1.0.0) (1.16.0)\n",
      "Requirement already satisfied: numpy in d:\\anaconda3\\lib\\site-packages (from keras-retinanet==1.0.0) (1.20.3)\n",
      "Requirement already satisfied: cython in d:\\anaconda3\\lib\\site-packages (from keras-retinanet==1.0.0) (0.29.24)\n",
      "Requirement already satisfied: Pillow in d:\\anaconda3\\lib\\site-packages (from keras-retinanet==1.0.0) (8.3.1)\n",
      "Requirement already satisfied: opencv-python in c:\\users\\acer\\appdata\\roaming\\python\\python38\\site-packages (from keras-retinanet==1.0.0) (4.5.4.60)\n",
      "Requirement already satisfied: progressbar2 in c:\\users\\acer\\appdata\\roaming\\python\\python38\\site-packages (from keras-retinanet==1.0.0) (3.55.0)\n",
      "Requirement already satisfied: keras>=2.2.4 in c:\\users\\acer\\appdata\\roaming\\python\\python38\\site-packages (from keras-resnet==0.2.0->keras-retinanet==1.0.0) (2.7.0)\n",
      "Requirement already satisfied: python-utils>=2.3.0 in c:\\users\\acer\\appdata\\roaming\\python\\python38\\site-packages (from progressbar2->keras-retinanet==1.0.0) (2.5.6)\n",
      "Building wheels for collected packages: keras-retinanet\n",
      "  Building wheel for keras-retinanet (setup.py): started\n",
      "  Building wheel for keras-retinanet (setup.py): finished with status 'done'\n",
      "  Created wheel for keras-retinanet: filename=keras_retinanet-1.0.0-cp38-cp38-win_amd64.whl size=129986 sha256=3924eb931eea524d4726def3085b216c663ef4922f18f761c3bff939b5176e44\n",
      "  Stored in directory: c:\\users\\acer\\appdata\\local\\pip\\cache\\wheels\\97\\7c\\3f\\12a1035600d9bfb44d2450baba76d4e464408cced908110512\n",
      "Successfully built keras-retinanet\n",
      "Installing collected packages: keras-retinanet\n",
      "  Attempting uninstall: keras-retinanet\n",
      "    Found existing installation: keras-retinanet 1.0.0\n",
      "    Uninstalling keras-retinanet-1.0.0:\n",
      "      Successfully uninstalled keras-retinanet-1.0.0\n",
      "Successfully installed keras-retinanet-1.0.0\n"
     ]
    }
   ],
   "source": [
    "os.chdir(r'D:\\notebooks\\RetinanetTutorial/keras-retinanet')\n",
    "!pip install ."
   ]
  },
  {
   "cell_type": "code",
   "execution_count": 130,
   "id": "964f2747",
   "metadata": {},
   "outputs": [
    {
     "name": "stdout",
     "output_type": "stream",
     "text": [
      "running build_ext\n",
      "skipping 'keras_retinanet/utils\\compute_overlap.c' Cython extension (up-to-date)\n",
      "copying build\\lib.win-amd64-3.8\\keras_retinanet\\utils\\compute_overlap.cp38-win_amd64.pyd -> keras_retinanet\\utils\n"
     ]
    }
   ],
   "source": [
    "os.chdir(r'D:\\notebooks\\RetinanetTutorial/keras-retinanet')\n",
    "!python setup.py build_ext --inplace"
   ]
  },
  {
   "cell_type": "code",
   "execution_count": 15,
   "id": "e5da6630",
   "metadata": {},
   "outputs": [
    {
     "name": "stdout",
     "output_type": "stream",
     "text": [
      "Creating model, this may take a second...\n",
      "Model: \"retinanet\"\n",
      "__________________________________________________________________________________________________\n",
      " Layer (type)                   Output Shape         Param #     Connected to                     \n",
      "==================================================================================================\n",
      " input_13 (InputLayer)          [(None, None, None,  0           []                               \n",
      "                                 3)]                                                              \n",
      "                                                                                                  \n",
      " conv1 (Conv2D)                 (None, None, None,   9408        ['input_13[0][0]']               \n",
      "                                64)                                                               \n",
      "                                                                                                  \n",
      " bn_conv1 (BatchNormalization)  (None, None, None,   256         ['conv1[0][0]']                  \n",
      "                                64)                                                               \n",
      "                                                                                                  \n",
      " conv1_relu (Activation)        (None, None, None,   0           ['bn_conv1[0][0]']               \n",
      "                                64)                                                               \n",
      "                                                                                                  \n",
      " pool1 (MaxPooling2D)           (None, None, None,   0           ['conv1_relu[0][0]']             \n",
      "                                64)                                                               \n",
      "                                                                                                  \n",
      " res2a_branch2a (Conv2D)        (None, None, None,   4096        ['pool1[0][0]']                  \n",
      "                                64)                                                               \n",
      "                                                                                                  \n",
      " bn2a_branch2a (BatchNormalizat  (None, None, None,   256        ['res2a_branch2a[0][0]']         \n",
      " ion)                           64)                                                               \n",
      "                                                                                                  \n",
      " res2a_branch2a_relu (Activatio  (None, None, None,   0          ['bn2a_branch2a[0][0]']          \n",
      " n)                             64)                                                               \n",
      "                                                                                                  \n",
      " padding2a_branch2b (ZeroPaddin  (None, None, None,   0          ['res2a_branch2a_relu[0][0]']    \n",
      " g2D)                           64)                                                               \n",
      "                                                                                                  \n",
      " res2a_branch2b (Conv2D)        (None, None, None,   36864       ['padding2a_branch2b[0][0]']     \n",
      "                                64)                                                               \n",
      "                                                                                                  \n",
      " bn2a_branch2b (BatchNormalizat  (None, None, None,   256        ['res2a_branch2b[0][0]']         \n",
      " ion)                           64)                                                               \n",
      "                                                                                                  \n",
      " res2a_branch2b_relu (Activatio  (None, None, None,   0          ['bn2a_branch2b[0][0]']          \n",
      " n)                             64)                                                               \n",
      "                                                                                                  \n",
      " res2a_branch2c (Conv2D)        (None, None, None,   16384       ['res2a_branch2b_relu[0][0]']    \n",
      "                                256)                                                              \n",
      "                                                                                                  \n",
      " res2a_branch1 (Conv2D)         (None, None, None,   16384       ['pool1[0][0]']                  \n",
      "                                256)                                                              \n",
      "                                                                                                  \n",
      " bn2a_branch2c (BatchNormalizat  (None, None, None,   1024       ['res2a_branch2c[0][0]']         \n",
      " ion)                           256)                                                              \n",
      "                                                                                                  \n",
      " bn2a_branch1 (BatchNormalizati  (None, None, None,   1024       ['res2a_branch1[0][0]']          \n",
      " on)                            256)                                                              \n",
      "                                                                                                  \n",
      " res2a (Add)                    (None, None, None,   0           ['bn2a_branch2c[0][0]',          \n",
      "                                256)                              'bn2a_branch1[0][0]']           \n",
      "                                                                                                  \n",
      " res2a_relu (Activation)        (None, None, None,   0           ['res2a[0][0]']                  \n",
      "                                256)                                                              \n",
      "                                                                                                  \n",
      " res2b_branch2a (Conv2D)        (None, None, None,   16384       ['res2a_relu[0][0]']             \n",
      "                                64)                                                               \n",
      "                                                                                                  \n",
      " bn2b_branch2a (BatchNormalizat  (None, None, None,   256        ['res2b_branch2a[0][0]']         \n",
      " ion)                           64)                                                               \n",
      "                                                                                                  \n",
      " res2b_branch2a_relu (Activatio  (None, None, None,   0          ['bn2b_branch2a[0][0]']          \n",
      " n)                             64)                                                               \n",
      "                                                                                                  \n",
      " padding2b_branch2b (ZeroPaddin  (None, None, None,   0          ['res2b_branch2a_relu[0][0]']    \n",
      " g2D)                           64)                                                               \n",
      "                                                                                                  \n",
      " res2b_branch2b (Conv2D)        (None, None, None,   36864       ['padding2b_branch2b[0][0]']     \n",
      "                                64)                                                               \n",
      "                                                                                                  \n",
      " bn2b_branch2b (BatchNormalizat  (None, None, None,   256        ['res2b_branch2b[0][0]']         \n",
      " ion)                           64)                                                               \n",
      "                                                                                                  \n",
      " res2b_branch2b_relu (Activatio  (None, None, None,   0          ['bn2b_branch2b[0][0]']          \n",
      " n)                             64)                                                               \n",
      "                                                                                                  \n",
      " res2b_branch2c (Conv2D)        (None, None, None,   16384       ['res2b_branch2b_relu[0][0]']    \n",
      "                                256)                                                              \n",
      "                                                                                                  \n",
      " bn2b_branch2c (BatchNormalizat  (None, None, None,   1024       ['res2b_branch2c[0][0]']         \n",
      " ion)                           256)                                                              \n",
      "                                                                                                  \n",
      " res2b (Add)                    (None, None, None,   0           ['bn2b_branch2c[0][0]',          \n",
      "                                256)                              'res2a_relu[0][0]']             \n",
      "                                                                                                  \n",
      " res2b_relu (Activation)        (None, None, None,   0           ['res2b[0][0]']                  \n",
      "                                256)                                                              \n",
      "                                                                                                  \n",
      " res2c_branch2a (Conv2D)        (None, None, None,   16384       ['res2b_relu[0][0]']             \n",
      "                                64)                                                               \n",
      "                                                                                                  \n",
      " bn2c_branch2a (BatchNormalizat  (None, None, None,   256        ['res2c_branch2a[0][0]']         \n",
      " ion)                           64)                                                               \n",
      "                                                                                                  \n",
      " res2c_branch2a_relu (Activatio  (None, None, None,   0          ['bn2c_branch2a[0][0]']          \n",
      " n)                             64)                                                               \n",
      "                                                                                                  \n",
      " padding2c_branch2b (ZeroPaddin  (None, None, None,   0          ['res2c_branch2a_relu[0][0]']    \n",
      " g2D)                           64)                                                               \n",
      "                                                                                                  \n",
      " res2c_branch2b (Conv2D)        (None, None, None,   36864       ['padding2c_branch2b[0][0]']     \n",
      "                                64)                                                               \n",
      "                                                                                                  \n",
      " bn2c_branch2b (BatchNormalizat  (None, None, None,   256        ['res2c_branch2b[0][0]']         \n",
      " ion)                           64)                                                               \n",
      "                                                                                                  \n",
      " res2c_branch2b_relu (Activatio  (None, None, None,   0          ['bn2c_branch2b[0][0]']          \n",
      " n)                             64)                                                               \n",
      "                                                                                                  \n",
      " res2c_branch2c (Conv2D)        (None, None, None,   16384       ['res2c_branch2b_relu[0][0]']    \n",
      "                                256)                                                              \n",
      "                                                                                                  \n",
      " bn2c_branch2c (BatchNormalizat  (None, None, None,   1024       ['res2c_branch2c[0][0]']         \n",
      " ion)                           256)                                                              \n",
      "                                                                                                  \n",
      " res2c (Add)                    (None, None, None,   0           ['bn2c_branch2c[0][0]',          \n",
      "                                256)                              'res2b_relu[0][0]']             \n",
      "                                                                                                  \n",
      " res2c_relu (Activation)        (None, None, None,   0           ['res2c[0][0]']                  \n",
      "                                256)                                                              \n",
      "                                                                                                  \n",
      " res3a_branch2a (Conv2D)        (None, None, None,   32768       ['res2c_relu[0][0]']             \n",
      "                                128)                                                              \n",
      "                                                                                                  \n",
      " bn3a_branch2a (BatchNormalizat  (None, None, None,   512        ['res3a_branch2a[0][0]']         \n",
      " ion)                           128)                                                              \n",
      "                                                                                                  \n",
      " res3a_branch2a_relu (Activatio  (None, None, None,   0          ['bn3a_branch2a[0][0]']          \n",
      " n)                             128)                                                              \n",
      "                                                                                                  \n",
      " padding3a_branch2b (ZeroPaddin  (None, None, None,   0          ['res3a_branch2a_relu[0][0]']    \n",
      " g2D)                           128)                                                              \n",
      "                                                                                                  \n",
      " res3a_branch2b (Conv2D)        (None, None, None,   147456      ['padding3a_branch2b[0][0]']     \n",
      "                                128)                                                              \n",
      "                                                                                                  \n",
      " bn3a_branch2b (BatchNormalizat  (None, None, None,   512        ['res3a_branch2b[0][0]']         \n",
      " ion)                           128)                                                              \n",
      "                                                                                                  \n",
      " res3a_branch2b_relu (Activatio  (None, None, None,   0          ['bn3a_branch2b[0][0]']          \n",
      " n)                             128)                                                              \n",
      "                                                                                                  \n",
      " res3a_branch2c (Conv2D)        (None, None, None,   65536       ['res3a_branch2b_relu[0][0]']    \n",
      "                                512)                                                              \n",
      "                                                                                                  \n",
      " res3a_branch1 (Conv2D)         (None, None, None,   131072      ['res2c_relu[0][0]']             \n",
      "                                512)                                                              \n",
      "                                                                                                  \n",
      " bn3a_branch2c (BatchNormalizat  (None, None, None,   2048       ['res3a_branch2c[0][0]']         \n",
      " ion)                           512)                                                              \n",
      "                                                                                                  \n",
      " bn3a_branch1 (BatchNormalizati  (None, None, None,   2048       ['res3a_branch1[0][0]']          \n",
      " on)                            512)                                                              \n",
      "                                                                                                  \n",
      " res3a (Add)                    (None, None, None,   0           ['bn3a_branch2c[0][0]',          \n",
      "                                512)                              'bn3a_branch1[0][0]']           \n",
      "                                                                                                  \n",
      " res3a_relu (Activation)        (None, None, None,   0           ['res3a[0][0]']                  \n",
      "                                512)                                                              \n",
      "                                                                                                  \n",
      " res3b_branch2a (Conv2D)        (None, None, None,   65536       ['res3a_relu[0][0]']             \n",
      "                                128)                                                              \n",
      "                                                                                                  \n",
      " bn3b_branch2a (BatchNormalizat  (None, None, None,   512        ['res3b_branch2a[0][0]']         \n",
      " ion)                           128)                                                              \n",
      "                                                                                                  \n",
      " res3b_branch2a_relu (Activatio  (None, None, None,   0          ['bn3b_branch2a[0][0]']          \n",
      " n)                             128)                                                              \n",
      "                                                                                                  \n",
      " padding3b_branch2b (ZeroPaddin  (None, None, None,   0          ['res3b_branch2a_relu[0][0]']    \n",
      " g2D)                           128)                                                              \n",
      "                                                                                                  \n",
      " res3b_branch2b (Conv2D)        (None, None, None,   147456      ['padding3b_branch2b[0][0]']     \n",
      "                                128)                                                              \n",
      "                                                                                                  \n",
      " bn3b_branch2b (BatchNormalizat  (None, None, None,   512        ['res3b_branch2b[0][0]']         \n",
      " ion)                           128)                                                              \n",
      "                                                                                                  \n",
      " res3b_branch2b_relu (Activatio  (None, None, None,   0          ['bn3b_branch2b[0][0]']          \n",
      " n)                             128)                                                              \n",
      "                                                                                                  \n",
      " res3b_branch2c (Conv2D)        (None, None, None,   65536       ['res3b_branch2b_relu[0][0]']    \n",
      "                                512)                                                              \n",
      "                                                                                                  \n",
      " bn3b_branch2c (BatchNormalizat  (None, None, None,   2048       ['res3b_branch2c[0][0]']         \n",
      " ion)                           512)                                                              \n",
      "                                                                                                  \n",
      " res3b (Add)                    (None, None, None,   0           ['bn3b_branch2c[0][0]',          \n",
      "                                512)                              'res3a_relu[0][0]']             \n",
      "                                                                                                  \n",
      " res3b_relu (Activation)        (None, None, None,   0           ['res3b[0][0]']                  \n",
      "                                512)                                                              \n",
      "                                                                                                  \n",
      " res3c_branch2a (Conv2D)        (None, None, None,   65536       ['res3b_relu[0][0]']             \n",
      "                                128)                                                              \n",
      "                                                                                                  \n",
      " bn3c_branch2a (BatchNormalizat  (None, None, None,   512        ['res3c_branch2a[0][0]']         \n",
      " ion)                           128)                                                              \n",
      "                                                                                                  \n",
      " res3c_branch2a_relu (Activatio  (None, None, None,   0          ['bn3c_branch2a[0][0]']          \n",
      " n)                             128)                                                              \n",
      "                                                                                                  \n",
      " padding3c_branch2b (ZeroPaddin  (None, None, None,   0          ['res3c_branch2a_relu[0][0]']    \n",
      " g2D)                           128)                                                              \n",
      "                                                                                                  \n",
      " res3c_branch2b (Conv2D)        (None, None, None,   147456      ['padding3c_branch2b[0][0]']     \n",
      "                                128)                                                              \n",
      "                                                                                                  \n",
      " bn3c_branch2b (BatchNormalizat  (None, None, None,   512        ['res3c_branch2b[0][0]']         \n",
      " ion)                           128)                                                              \n",
      "                                                                                                  \n",
      " res3c_branch2b_relu (Activatio  (None, None, None,   0          ['bn3c_branch2b[0][0]']          \n",
      " n)                             128)                                                              \n",
      "                                                                                                  \n",
      " res3c_branch2c (Conv2D)        (None, None, None,   65536       ['res3c_branch2b_relu[0][0]']    \n",
      "                                512)                                                              \n",
      "                                                                                                  \n",
      " bn3c_branch2c (BatchNormalizat  (None, None, None,   2048       ['res3c_branch2c[0][0]']         \n",
      " ion)                           512)                                                              \n",
      "                                                                                                  \n",
      " res3c (Add)                    (None, None, None,   0           ['bn3c_branch2c[0][0]',          \n",
      "                                512)                              'res3b_relu[0][0]']             \n",
      "                                                                                                  \n",
      " res3c_relu (Activation)        (None, None, None,   0           ['res3c[0][0]']                  \n",
      "                                512)                                                              \n",
      "                                                                                                  \n",
      " res3d_branch2a (Conv2D)        (None, None, None,   65536       ['res3c_relu[0][0]']             \n",
      "                                128)                                                              \n",
      "                                                                                                  \n",
      " bn3d_branch2a (BatchNormalizat  (None, None, None,   512        ['res3d_branch2a[0][0]']         \n",
      " ion)                           128)                                                              \n",
      "                                                                                                  \n",
      " res3d_branch2a_relu (Activatio  (None, None, None,   0          ['bn3d_branch2a[0][0]']          \n",
      " n)                             128)                                                              \n",
      "                                                                                                  \n",
      " padding3d_branch2b (ZeroPaddin  (None, None, None,   0          ['res3d_branch2a_relu[0][0]']    \n",
      " g2D)                           128)                                                              \n",
      "                                                                                                  \n",
      " res3d_branch2b (Conv2D)        (None, None, None,   147456      ['padding3d_branch2b[0][0]']     \n",
      "                                128)                                                              \n",
      "                                                                                                  \n",
      " bn3d_branch2b (BatchNormalizat  (None, None, None,   512        ['res3d_branch2b[0][0]']         \n",
      " ion)                           128)                                                              \n",
      "                                                                                                  \n",
      " res3d_branch2b_relu (Activatio  (None, None, None,   0          ['bn3d_branch2b[0][0]']          \n",
      " n)                             128)                                                              \n",
      "                                                                                                  \n",
      " res3d_branch2c (Conv2D)        (None, None, None,   65536       ['res3d_branch2b_relu[0][0]']    \n",
      "                                512)                                                              \n",
      "                                                                                                  \n",
      " bn3d_branch2c (BatchNormalizat  (None, None, None,   2048       ['res3d_branch2c[0][0]']         \n",
      " ion)                           512)                                                              \n",
      "                                                                                                  \n",
      " res3d (Add)                    (None, None, None,   0           ['bn3d_branch2c[0][0]',          \n",
      "                                512)                              'res3c_relu[0][0]']             \n",
      "                                                                                                  \n",
      " res3d_relu (Activation)        (None, None, None,   0           ['res3d[0][0]']                  \n",
      "                                512)                                                              \n",
      "                                                                                                  \n",
      " res4a_branch2a (Conv2D)        (None, None, None,   131072      ['res3d_relu[0][0]']             \n",
      "                                256)                                                              \n",
      "                                                                                                  \n",
      " bn4a_branch2a (BatchNormalizat  (None, None, None,   1024       ['res4a_branch2a[0][0]']         \n",
      " ion)                           256)                                                              \n",
      "                                                                                                  \n",
      " res4a_branch2a_relu (Activatio  (None, None, None,   0          ['bn4a_branch2a[0][0]']          \n",
      " n)                             256)                                                              \n",
      "                                                                                                  \n",
      " padding4a_branch2b (ZeroPaddin  (None, None, None,   0          ['res4a_branch2a_relu[0][0]']    \n",
      " g2D)                           256)                                                              \n",
      "                                                                                                  \n",
      " res4a_branch2b (Conv2D)        (None, None, None,   589824      ['padding4a_branch2b[0][0]']     \n",
      "                                256)                                                              \n",
      "                                                                                                  \n",
      " bn4a_branch2b (BatchNormalizat  (None, None, None,   1024       ['res4a_branch2b[0][0]']         \n",
      " ion)                           256)                                                              \n",
      "                                                                                                  \n",
      " res4a_branch2b_relu (Activatio  (None, None, None,   0          ['bn4a_branch2b[0][0]']          \n",
      " n)                             256)                                                              \n",
      "                                                                                                  \n",
      " res4a_branch2c (Conv2D)        (None, None, None,   262144      ['res4a_branch2b_relu[0][0]']    \n",
      "                                1024)                                                             \n",
      "                                                                                                  \n",
      " res4a_branch1 (Conv2D)         (None, None, None,   524288      ['res3d_relu[0][0]']             \n",
      "                                1024)                                                             \n",
      "                                                                                                  \n",
      " bn4a_branch2c (BatchNormalizat  (None, None, None,   4096       ['res4a_branch2c[0][0]']         \n",
      " ion)                           1024)                                                             \n",
      "                                                                                                  \n",
      " bn4a_branch1 (BatchNormalizati  (None, None, None,   4096       ['res4a_branch1[0][0]']          \n",
      " on)                            1024)                                                             \n",
      "                                                                                                  \n",
      " res4a (Add)                    (None, None, None,   0           ['bn4a_branch2c[0][0]',          \n",
      "                                1024)                             'bn4a_branch1[0][0]']           \n",
      "                                                                                                  \n",
      " res4a_relu (Activation)        (None, None, None,   0           ['res4a[0][0]']                  \n",
      "                                1024)                                                             \n",
      "                                                                                                  \n",
      " res4b_branch2a (Conv2D)        (None, None, None,   262144      ['res4a_relu[0][0]']             \n",
      "                                256)                                                              \n",
      "                                                                                                  \n",
      " bn4b_branch2a (BatchNormalizat  (None, None, None,   1024       ['res4b_branch2a[0][0]']         \n",
      " ion)                           256)                                                              \n",
      "                                                                                                  \n",
      " res4b_branch2a_relu (Activatio  (None, None, None,   0          ['bn4b_branch2a[0][0]']          \n",
      " n)                             256)                                                              \n",
      "                                                                                                  \n",
      " padding4b_branch2b (ZeroPaddin  (None, None, None,   0          ['res4b_branch2a_relu[0][0]']    \n",
      " g2D)                           256)                                                              \n",
      "                                                                                                  \n",
      " res4b_branch2b (Conv2D)        (None, None, None,   589824      ['padding4b_branch2b[0][0]']     \n",
      "                                256)                                                              \n",
      "                                                                                                  \n",
      " bn4b_branch2b (BatchNormalizat  (None, None, None,   1024       ['res4b_branch2b[0][0]']         \n",
      " ion)                           256)                                                              \n",
      "                                                                                                  \n",
      " res4b_branch2b_relu (Activatio  (None, None, None,   0          ['bn4b_branch2b[0][0]']          \n",
      " n)                             256)                                                              \n",
      "                                                                                                  \n",
      " res4b_branch2c (Conv2D)        (None, None, None,   262144      ['res4b_branch2b_relu[0][0]']    \n",
      "                                1024)                                                             \n",
      "                                                                                                  \n",
      " bn4b_branch2c (BatchNormalizat  (None, None, None,   4096       ['res4b_branch2c[0][0]']         \n",
      " ion)                           1024)                                                             \n",
      "                                                                                                  \n",
      " res4b (Add)                    (None, None, None,   0           ['bn4b_branch2c[0][0]',          \n",
      "                                1024)                             'res4a_relu[0][0]']             \n",
      "                                                                                                  \n",
      " res4b_relu (Activation)        (None, None, None,   0           ['res4b[0][0]']                  \n",
      "                                1024)                                                             \n",
      "                                                                                                  \n",
      " res4c_branch2a (Conv2D)        (None, None, None,   262144      ['res4b_relu[0][0]']             \n",
      "                                256)                                                              \n",
      "                                                                                                  \n",
      " bn4c_branch2a (BatchNormalizat  (None, None, None,   1024       ['res4c_branch2a[0][0]']         \n",
      " ion)                           256)                                                              \n",
      "                                                                                                  \n",
      " res4c_branch2a_relu (Activatio  (None, None, None,   0          ['bn4c_branch2a[0][0]']          \n",
      " n)                             256)                                                              \n",
      "                                                                                                  \n",
      " padding4c_branch2b (ZeroPaddin  (None, None, None,   0          ['res4c_branch2a_relu[0][0]']    \n",
      " g2D)                           256)                                                              \n",
      "                                                                                                  \n",
      " res4c_branch2b (Conv2D)        (None, None, None,   589824      ['padding4c_branch2b[0][0]']     \n",
      "                                256)                                                              \n",
      "                                                                                                  \n",
      " bn4c_branch2b (BatchNormalizat  (None, None, None,   1024       ['res4c_branch2b[0][0]']         \n",
      " ion)                           256)                                                              \n",
      "                                                                                                  \n",
      " res4c_branch2b_relu (Activatio  (None, None, None,   0          ['bn4c_branch2b[0][0]']          \n",
      " n)                             256)                                                              \n",
      "                                                                                                  \n",
      " res4c_branch2c (Conv2D)        (None, None, None,   262144      ['res4c_branch2b_relu[0][0]']    \n",
      "                                1024)                                                             \n",
      "                                                                                                  \n",
      " bn4c_branch2c (BatchNormalizat  (None, None, None,   4096       ['res4c_branch2c[0][0]']         \n",
      " ion)                           1024)                                                             \n",
      "                                                                                                  \n",
      " res4c (Add)                    (None, None, None,   0           ['bn4c_branch2c[0][0]',          \n",
      "                                1024)                             'res4b_relu[0][0]']             \n",
      "                                                                                                  \n",
      " res4c_relu (Activation)        (None, None, None,   0           ['res4c[0][0]']                  \n",
      "                                1024)                                                             \n",
      "                                                                                                  \n",
      " res4d_branch2a (Conv2D)        (None, None, None,   262144      ['res4c_relu[0][0]']             \n",
      "                                256)                                                              \n",
      "                                                                                                  \n",
      " bn4d_branch2a (BatchNormalizat  (None, None, None,   1024       ['res4d_branch2a[0][0]']         \n",
      " ion)                           256)                                                              \n",
      "                                                                                                  \n",
      " res4d_branch2a_relu (Activatio  (None, None, None,   0          ['bn4d_branch2a[0][0]']          \n",
      " n)                             256)                                                              \n",
      "                                                                                                  \n",
      " padding4d_branch2b (ZeroPaddin  (None, None, None,   0          ['res4d_branch2a_relu[0][0]']    \n",
      " g2D)                           256)                                                              \n",
      "                                                                                                  \n",
      " res4d_branch2b (Conv2D)        (None, None, None,   589824      ['padding4d_branch2b[0][0]']     \n",
      "                                256)                                                              \n",
      "                                                                                                  \n",
      " bn4d_branch2b (BatchNormalizat  (None, None, None,   1024       ['res4d_branch2b[0][0]']         \n",
      " ion)                           256)                                                              \n",
      "                                                                                                  \n",
      " res4d_branch2b_relu (Activatio  (None, None, None,   0          ['bn4d_branch2b[0][0]']          \n",
      " n)                             256)                                                              \n",
      "                                                                                                  \n",
      " res4d_branch2c (Conv2D)        (None, None, None,   262144      ['res4d_branch2b_relu[0][0]']    \n",
      "                                1024)                                                             \n",
      "                                                                                                  \n",
      " bn4d_branch2c (BatchNormalizat  (None, None, None,   4096       ['res4d_branch2c[0][0]']         \n",
      " ion)                           1024)                                                             \n",
      "                                                                                                  \n",
      " res4d (Add)                    (None, None, None,   0           ['bn4d_branch2c[0][0]',          \n",
      "                                1024)                             'res4c_relu[0][0]']             \n",
      "                                                                                                  \n",
      " res4d_relu (Activation)        (None, None, None,   0           ['res4d[0][0]']                  \n",
      "                                1024)                                                             \n",
      "                                                                                                  \n",
      " res4e_branch2a (Conv2D)        (None, None, None,   262144      ['res4d_relu[0][0]']             \n",
      "                                256)                                                              \n",
      "                                                                                                  \n",
      " bn4e_branch2a (BatchNormalizat  (None, None, None,   1024       ['res4e_branch2a[0][0]']         \n",
      " ion)                           256)                                                              \n",
      "                                                                                                  \n",
      " res4e_branch2a_relu (Activatio  (None, None, None,   0          ['bn4e_branch2a[0][0]']          \n",
      " n)                             256)                                                              \n",
      "                                                                                                  \n",
      " padding4e_branch2b (ZeroPaddin  (None, None, None,   0          ['res4e_branch2a_relu[0][0]']    \n",
      " g2D)                           256)                                                              \n",
      "                                                                                                  \n",
      " res4e_branch2b (Conv2D)        (None, None, None,   589824      ['padding4e_branch2b[0][0]']     \n",
      "                                256)                                                              \n",
      "                                                                                                  \n",
      " bn4e_branch2b (BatchNormalizat  (None, None, None,   1024       ['res4e_branch2b[0][0]']         \n",
      " ion)                           256)                                                              \n",
      "                                                                                                  \n",
      " res4e_branch2b_relu (Activatio  (None, None, None,   0          ['bn4e_branch2b[0][0]']          \n",
      " n)                             256)                                                              \n",
      "                                                                                                  \n",
      " res4e_branch2c (Conv2D)        (None, None, None,   262144      ['res4e_branch2b_relu[0][0]']    \n",
      "                                1024)                                                             \n",
      "                                                                                                  \n",
      " bn4e_branch2c (BatchNormalizat  (None, None, None,   4096       ['res4e_branch2c[0][0]']         \n",
      " ion)                           1024)                                                             \n",
      "                                                                                                  \n",
      " res4e (Add)                    (None, None, None,   0           ['bn4e_branch2c[0][0]',          \n",
      "                                1024)                             'res4d_relu[0][0]']             \n",
      "                                                                                                  \n",
      " res4e_relu (Activation)        (None, None, None,   0           ['res4e[0][0]']                  \n",
      "                                1024)                                                             \n",
      "                                                                                                  \n",
      " res4f_branch2a (Conv2D)        (None, None, None,   262144      ['res4e_relu[0][0]']             \n",
      "                                256)                                                              \n",
      "                                                                                                  \n",
      " bn4f_branch2a (BatchNormalizat  (None, None, None,   1024       ['res4f_branch2a[0][0]']         \n",
      " ion)                           256)                                                              \n",
      "                                                                                                  \n",
      " res4f_branch2a_relu (Activatio  (None, None, None,   0          ['bn4f_branch2a[0][0]']          \n",
      " n)                             256)                                                              \n",
      "                                                                                                  \n",
      " padding4f_branch2b (ZeroPaddin  (None, None, None,   0          ['res4f_branch2a_relu[0][0]']    \n",
      " g2D)                           256)                                                              \n",
      "                                                                                                  \n",
      " res4f_branch2b (Conv2D)        (None, None, None,   589824      ['padding4f_branch2b[0][0]']     \n",
      "                                256)                                                              \n",
      "                                                                                                  \n",
      " bn4f_branch2b (BatchNormalizat  (None, None, None,   1024       ['res4f_branch2b[0][0]']         \n",
      " ion)                           256)                                                              \n",
      "                                                                                                  \n",
      " res4f_branch2b_relu (Activatio  (None, None, None,   0          ['bn4f_branch2b[0][0]']          \n",
      " n)                             256)                                                              \n",
      "                                                                                                  \n",
      " res4f_branch2c (Conv2D)        (None, None, None,   262144      ['res4f_branch2b_relu[0][0]']    \n",
      "                                1024)                                                             \n",
      "                                                                                                  \n",
      " bn4f_branch2c (BatchNormalizat  (None, None, None,   4096       ['res4f_branch2c[0][0]']         \n",
      " ion)                           1024)                                                             \n",
      "                                                                                                  \n",
      " res4f (Add)                    (None, None, None,   0           ['bn4f_branch2c[0][0]',          \n",
      "                                1024)                             'res4e_relu[0][0]']             \n",
      "                                                                                                  \n",
      " res4f_relu (Activation)        (None, None, None,   0           ['res4f[0][0]']                  \n",
      "                                1024)                                                             \n",
      "                                                                                                  \n",
      " res5a_branch2a (Conv2D)        (None, None, None,   524288      ['res4f_relu[0][0]']             \n",
      "                                512)                                                              \n",
      "                                                                                                  \n",
      " bn5a_branch2a (BatchNormalizat  (None, None, None,   2048       ['res5a_branch2a[0][0]']         \n",
      " ion)                           512)                                                              \n",
      "                                                                                                  \n",
      " res5a_branch2a_relu (Activatio  (None, None, None,   0          ['bn5a_branch2a[0][0]']          \n",
      " n)                             512)                                                              \n",
      "                                                                                                  \n",
      " padding5a_branch2b (ZeroPaddin  (None, None, None,   0          ['res5a_branch2a_relu[0][0]']    \n",
      " g2D)                           512)                                                              \n",
      "                                                                                                  \n",
      " res5a_branch2b (Conv2D)        (None, None, None,   2359296     ['padding5a_branch2b[0][0]']     \n",
      "                                512)                                                              \n",
      "                                                                                                  \n",
      " bn5a_branch2b (BatchNormalizat  (None, None, None,   2048       ['res5a_branch2b[0][0]']         \n",
      " ion)                           512)                                                              \n",
      "                                                                                                  \n",
      " res5a_branch2b_relu (Activatio  (None, None, None,   0          ['bn5a_branch2b[0][0]']          \n",
      " n)                             512)                                                              \n",
      "                                                                                                  \n",
      " res5a_branch2c (Conv2D)        (None, None, None,   1048576     ['res5a_branch2b_relu[0][0]']    \n",
      "                                2048)                                                             \n",
      "                                                                                                  \n",
      " res5a_branch1 (Conv2D)         (None, None, None,   2097152     ['res4f_relu[0][0]']             \n",
      "                                2048)                                                             \n",
      "                                                                                                  \n",
      " bn5a_branch2c (BatchNormalizat  (None, None, None,   8192       ['res5a_branch2c[0][0]']         \n",
      " ion)                           2048)                                                             \n",
      "                                                                                                  \n",
      " bn5a_branch1 (BatchNormalizati  (None, None, None,   8192       ['res5a_branch1[0][0]']          \n",
      " on)                            2048)                                                             \n",
      "                                                                                                  \n",
      " res5a (Add)                    (None, None, None,   0           ['bn5a_branch2c[0][0]',          \n",
      "                                2048)                             'bn5a_branch1[0][0]']           \n",
      "                                                                                                  \n",
      " res5a_relu (Activation)        (None, None, None,   0           ['res5a[0][0]']                  \n",
      "                                2048)                                                             \n",
      "                                                                                                  \n",
      " res5b_branch2a (Conv2D)        (None, None, None,   1048576     ['res5a_relu[0][0]']             \n",
      "                                512)                                                              \n",
      "                                                                                                  \n",
      " bn5b_branch2a (BatchNormalizat  (None, None, None,   2048       ['res5b_branch2a[0][0]']         \n",
      " ion)                           512)                                                              \n",
      "                                                                                                  \n",
      " res5b_branch2a_relu (Activatio  (None, None, None,   0          ['bn5b_branch2a[0][0]']          \n",
      " n)                             512)                                                              \n",
      "                                                                                                  \n",
      " padding5b_branch2b (ZeroPaddin  (None, None, None,   0          ['res5b_branch2a_relu[0][0]']    \n",
      " g2D)                           512)                                                              \n",
      "                                                                                                  \n",
      " res5b_branch2b (Conv2D)        (None, None, None,   2359296     ['padding5b_branch2b[0][0]']     \n",
      "                                512)                                                              \n",
      "                                                                                                  \n",
      " bn5b_branch2b (BatchNormalizat  (None, None, None,   2048       ['res5b_branch2b[0][0]']         \n",
      " ion)                           512)                                                              \n",
      "                                                                                                  \n",
      " res5b_branch2b_relu (Activatio  (None, None, None,   0          ['bn5b_branch2b[0][0]']          \n",
      " n)                             512)                                                              \n",
      "                                                                                                  \n",
      " res5b_branch2c (Conv2D)        (None, None, None,   1048576     ['res5b_branch2b_relu[0][0]']    \n",
      "                                2048)                                                             \n",
      "                                                                                                  \n",
      " bn5b_branch2c (BatchNormalizat  (None, None, None,   8192       ['res5b_branch2c[0][0]']         \n",
      " ion)                           2048)                                                             \n",
      "                                                                                                  \n",
      " res5b (Add)                    (None, None, None,   0           ['bn5b_branch2c[0][0]',          \n",
      "                                2048)                             'res5a_relu[0][0]']             \n",
      "                                                                                                  \n",
      " res5b_relu (Activation)        (None, None, None,   0           ['res5b[0][0]']                  \n",
      "                                2048)                                                             \n",
      "                                                                                                  \n",
      " res5c_branch2a (Conv2D)        (None, None, None,   1048576     ['res5b_relu[0][0]']             \n",
      "                                512)                                                              \n",
      "                                                                                                  \n",
      " bn5c_branch2a (BatchNormalizat  (None, None, None,   2048       ['res5c_branch2a[0][0]']         \n",
      " ion)                           512)                                                              \n",
      "                                                                                                  \n",
      " res5c_branch2a_relu (Activatio  (None, None, None,   0          ['bn5c_branch2a[0][0]']          \n",
      " n)                             512)                                                              \n",
      "                                                                                                  \n",
      " padding5c_branch2b (ZeroPaddin  (None, None, None,   0          ['res5c_branch2a_relu[0][0]']    \n",
      " g2D)                           512)                                                              \n",
      "                                                                                                  \n",
      " res5c_branch2b (Conv2D)        (None, None, None,   2359296     ['padding5c_branch2b[0][0]']     \n",
      "                                512)                                                              \n",
      "                                                                                                  \n",
      " bn5c_branch2b (BatchNormalizat  (None, None, None,   2048       ['res5c_branch2b[0][0]']         \n",
      " ion)                           512)                                                              \n",
      "                                                                                                  \n",
      " res5c_branch2b_relu (Activatio  (None, None, None,   0          ['bn5c_branch2b[0][0]']          \n",
      " n)                             512)                                                              \n",
      "                                                                                                  \n",
      " res5c_branch2c (Conv2D)        (None, None, None,   1048576     ['res5c_branch2b_relu[0][0]']    \n",
      "                                2048)                                                             \n",
      "                                                                                                  \n",
      " bn5c_branch2c (BatchNormalizat  (None, None, None,   8192       ['res5c_branch2c[0][0]']         \n",
      " ion)                           2048)                                                             \n",
      "                                                                                                  \n",
      " res5c (Add)                    (None, None, None,   0           ['bn5c_branch2c[0][0]',          \n",
      "                                2048)                             'res5b_relu[0][0]']             \n",
      "                                                                                                  \n",
      " res5c_relu (Activation)        (None, None, None,   0           ['res5c[0][0]']                  \n",
      "                                2048)                                                             \n",
      "                                                                                                  \n",
      " C5_reduced (Conv2D)            (None, None, None,   524544      ['res5c_relu[0][0]']             \n",
      "                                256)                                                              \n",
      "                                                                                                  \n",
      " P5_upsampled (UpsampleLike)    (None, None, None,   0           ['C5_reduced[0][0]',             \n",
      "                                256)                              'res4f_relu[0][0]']             \n",
      "                                                                                                  \n",
      " C4_reduced (Conv2D)            (None, None, None,   262400      ['res4f_relu[0][0]']             \n",
      "                                256)                                                              \n",
      "                                                                                                  \n",
      " P4_merged (Add)                (None, None, None,   0           ['P5_upsampled[0][0]',           \n",
      "                                256)                              'C4_reduced[0][0]']             \n",
      "                                                                                                  \n",
      " P4_upsampled (UpsampleLike)    (None, None, None,   0           ['P4_merged[0][0]',              \n",
      "                                256)                              'res3d_relu[0][0]']             \n",
      "                                                                                                  \n",
      " C3_reduced (Conv2D)            (None, None, None,   131328      ['res3d_relu[0][0]']             \n",
      "                                256)                                                              \n",
      "                                                                                                  \n",
      " P6 (Conv2D)                    (None, None, None,   4718848     ['res5c_relu[0][0]']             \n",
      "                                256)                                                              \n",
      "                                                                                                  \n",
      " P3_merged (Add)                (None, None, None,   0           ['P4_upsampled[0][0]',           \n",
      "                                256)                              'C3_reduced[0][0]']             \n",
      "                                                                                                  \n",
      " C6_relu (Activation)           (None, None, None,   0           ['P6[0][0]']                     \n",
      "                                256)                                                              \n",
      "                                                                                                  \n",
      " P3 (Conv2D)                    (None, None, None,   590080      ['P3_merged[0][0]']              \n",
      "                                256)                                                              \n",
      "                                                                                                  \n",
      " P4 (Conv2D)                    (None, None, None,   590080      ['P4_merged[0][0]']              \n",
      "                                256)                                                              \n",
      "                                                                                                  \n",
      " P5 (Conv2D)                    (None, None, None,   590080      ['C5_reduced[0][0]']             \n",
      "                                256)                                                              \n",
      "                                                                                                  \n",
      " P7 (Conv2D)                    (None, None, None,   590080      ['C6_relu[0][0]']                \n",
      "                                256)                                                              \n",
      "                                                                                                  \n",
      " regression_submodel (Functiona  (None, None, 4)     2443300     ['P3[0][0]',                     \n",
      " l)                                                               'P4[0][0]',                     \n",
      "                                                                  'P5[0][0]',                     \n",
      "                                                                  'P6[0][0]',                     \n",
      "                                                                  'P7[0][0]']                     \n",
      "                                                                                                  \n",
      " classification_submodel (Funct  (None, None, 1)     2381065     ['P3[0][0]',                     \n",
      " ional)                                                           'P4[0][0]',                     \n",
      "                                                                  'P5[0][0]',                     \n",
      "                                                                  'P6[0][0]',                     \n",
      "                                                                  'P7[0][0]']                     \n",
      "                                                                                                  \n",
      " regression (Concatenate)       (None, None, 4)      0           ['regression_submodel[0][0]',    \n",
      "                                                                  'regression_submodel[1][0]',    \n",
      "                                                                  'regression_submodel[2][0]',    \n",
      "                                                                  'regression_submodel[3][0]',    \n",
      "                                                                  'regression_submodel[4][0]']    \n",
      "                                                                                                  \n",
      " classification (Concatenate)   (None, None, 1)      0           ['classification_submodel[0][0]',\n",
      "                                                                  'classification_submodel[1][0]',\n",
      "                                                                  'classification_submodel[2][0]',\n",
      "                                                                  'classification_submodel[3][0]',\n",
      "                                                                  'classification_submodel[4][0]']\n",
      "                                                                                                  \n",
      "==================================================================================================\n",
      "Total params: 36,382,957\n",
      "Trainable params: 36,276,717\n",
      "Non-trainable params: 106,240\n",
      "__________________________________________________________________________________________________\n",
      "None\n",
      "WARNING:tensorflow:`batch_size` is no longer needed in the `TensorBoard` Callback and will be ignored in TensorFlow 2.0.\n"
     ]
    },
    {
     "name": "stderr",
     "output_type": "stream",
     "text": [
      "D:\\notebooks\\RetinanetTutorial\\keras-retinanet\\keras_retinanet\\bin\\train.py:538: UserWarning: `Model.fit_generator` is deprecated and will be removed in a future version. Please use `Model.fit`, which supports generators.\n",
      "  return training_model.fit_generator(\n"
     ]
    },
    {
     "name": "stdout",
     "output_type": "stream",
     "text": [
      "Epoch 1/50\n",
      "446/446 [==============================] - ETA: 0s - loss: 2.9859 - regression_loss: 2.4113 - classification_loss: 0.5746"
     ]
    },
    {
     "name": "stderr",
     "output_type": "stream",
     "text": [
      "Running network: 100% (112 of 112) |#####| Elapsed Time: 0:00:18 Time:  0:00:18\n",
      "Parsing annotations: 100% (112 of 112) |#| Elapsed Time: 0:00:00 Time:  0:00:00\n"
     ]
    },
    {
     "name": "stdout",
     "output_type": "stream",
     "text": [
      "223 instances of class boat with average precision: 0.2909\n",
      "mAP: 0.2909\n",
      "\n",
      "Epoch 00001: saving model to D:\\notebooks\\RetinanetTutorial\\Output\\Snapshots\\resnet50_pascal_01.h5\n",
      "446/446 [==============================] - 170s 365ms/step - loss: 2.9859 - regression_loss: 2.4113 - classification_loss: 0.5746 - mAP: 0.2909 - lr: 1.0000e-05\n",
      "Epoch 2/50\n",
      "446/446 [==============================] - ETA: 0s - loss: 2.1709 - regression_loss: 1.8073 - classification_loss: 0.3636"
     ]
    },
    {
     "name": "stderr",
     "output_type": "stream",
     "text": [
      "Running network: 100% (112 of 112) |#####| Elapsed Time: 0:00:14 Time:  0:00:14\n",
      "Parsing annotations: 100% (112 of 112) |#| Elapsed Time: 0:00:00 Time:  0:00:00\n"
     ]
    },
    {
     "name": "stdout",
     "output_type": "stream",
     "text": [
      "223 instances of class boat with average precision: 0.3377\n",
      "mAP: 0.3377\n",
      "\n",
      "Epoch 00002: saving model to D:\\notebooks\\RetinanetTutorial\\Output\\Snapshots\\resnet50_pascal_02.h5\n",
      "446/446 [==============================] - 161s 360ms/step - loss: 2.1709 - regression_loss: 1.8073 - classification_loss: 0.3636 - mAP: 0.3377 - lr: 1.0000e-05\n",
      "Epoch 3/50\n",
      "446/446 [==============================] - ETA: 0s - loss: 1.8523 - regression_loss: 1.5391 - classification_loss: 0.3131"
     ]
    },
    {
     "name": "stderr",
     "output_type": "stream",
     "text": [
      "Running network: 100% (112 of 112) |#####| Elapsed Time: 0:00:14 Time:  0:00:14\n",
      "Parsing annotations: 100% (112 of 112) |#| Elapsed Time: 0:00:00 Time:  0:00:00\n"
     ]
    },
    {
     "name": "stdout",
     "output_type": "stream",
     "text": [
      "223 instances of class boat with average precision: 0.4873\n",
      "mAP: 0.4873\n",
      "\n",
      "Epoch 00003: saving model to D:\\notebooks\\RetinanetTutorial\\Output\\Snapshots\\resnet50_pascal_03.h5\n",
      "446/446 [==============================] - 162s 362ms/step - loss: 1.8523 - regression_loss: 1.5391 - classification_loss: 0.3131 - mAP: 0.4873 - lr: 1.0000e-05\n",
      "Epoch 4/50\n",
      "446/446 [==============================] - ETA: 0s - loss: 1.7214 - regression_loss: 1.4297 - classification_loss: 0.2916"
     ]
    },
    {
     "name": "stderr",
     "output_type": "stream",
     "text": [
      "Running network: 100% (112 of 112) |#####| Elapsed Time: 0:00:14 Time:  0:00:14\n",
      "Parsing annotations: 100% (112 of 112) |#| Elapsed Time: 0:00:00 Time:  0:00:00\n"
     ]
    },
    {
     "name": "stdout",
     "output_type": "stream",
     "text": [
      "223 instances of class boat with average precision: 0.5029\n",
      "mAP: 0.5029\n",
      "\n",
      "Epoch 00004: saving model to D:\\notebooks\\RetinanetTutorial\\Output\\Snapshots\\resnet50_pascal_04.h5\n",
      "446/446 [==============================] - 162s 363ms/step - loss: 1.7214 - regression_loss: 1.4297 - classification_loss: 0.2916 - mAP: 0.5029 - lr: 1.0000e-05\n",
      "Epoch 5/50\n",
      "446/446 [==============================] - ETA: 0s - loss: 1.6102 - regression_loss: 1.3321 - classification_loss: 0.2781"
     ]
    },
    {
     "name": "stderr",
     "output_type": "stream",
     "text": [
      "Running network: 100% (112 of 112) |#####| Elapsed Time: 0:00:14 Time:  0:00:14\n",
      "Parsing annotations: 100% (112 of 112) |#| Elapsed Time: 0:00:00 Time:  0:00:00\n"
     ]
    },
    {
     "name": "stdout",
     "output_type": "stream",
     "text": [
      "223 instances of class boat with average precision: 0.5052\n",
      "mAP: 0.5052\n",
      "\n",
      "Epoch 00005: saving model to D:\\notebooks\\RetinanetTutorial\\Output\\Snapshots\\resnet50_pascal_05.h5\n",
      "446/446 [==============================] - 162s 363ms/step - loss: 1.6102 - regression_loss: 1.3321 - classification_loss: 0.2781 - mAP: 0.5052 - lr: 1.0000e-05\n",
      "Epoch 6/50\n",
      "446/446 [==============================] - ETA: 0s - loss: 1.5659 - regression_loss: 1.2606 - classification_loss: 0.3052"
     ]
    },
    {
     "name": "stderr",
     "output_type": "stream",
     "text": [
      "Running network: 100% (112 of 112) |#####| Elapsed Time: 0:00:14 Time:  0:00:14\n",
      "Parsing annotations: 100% (112 of 112) |#| Elapsed Time: 0:00:00 Time:  0:00:00\n"
     ]
    },
    {
     "name": "stdout",
     "output_type": "stream",
     "text": [
      "223 instances of class boat with average precision: 0.5284\n",
      "mAP: 0.5284\n",
      "\n",
      "Epoch 00006: saving model to D:\\notebooks\\RetinanetTutorial\\Output\\Snapshots\\resnet50_pascal_06.h5\n",
      "446/446 [==============================] - 162s 364ms/step - loss: 1.5659 - regression_loss: 1.2606 - classification_loss: 0.3052 - mAP: 0.5284 - lr: 1.0000e-05\n",
      "Epoch 7/50\n",
      "446/446 [==============================] - ETA: 0s - loss: 1.4579 - regression_loss: 1.2265 - classification_loss: 0.2314"
     ]
    },
    {
     "name": "stderr",
     "output_type": "stream",
     "text": [
      "Running network: 100% (112 of 112) |#####| Elapsed Time: 0:00:14 Time:  0:00:14\n",
      "Parsing annotations: 100% (112 of 112) |#| Elapsed Time: 0:00:00 Time:  0:00:00\n"
     ]
    },
    {
     "name": "stdout",
     "output_type": "stream",
     "text": [
      "223 instances of class boat with average precision: 0.5360\n",
      "mAP: 0.5360\n",
      "\n",
      "Epoch 00007: saving model to D:\\notebooks\\RetinanetTutorial\\Output\\Snapshots\\resnet50_pascal_07.h5\n",
      "446/446 [==============================] - 161s 362ms/step - loss: 1.4579 - regression_loss: 1.2265 - classification_loss: 0.2314 - mAP: 0.5360 - lr: 1.0000e-05\n",
      "Epoch 8/50\n",
      "446/446 [==============================] - ETA: 0s - loss: 1.4454 - regression_loss: 1.2203 - classification_loss: 0.2250"
     ]
    },
    {
     "name": "stderr",
     "output_type": "stream",
     "text": [
      "Running network: 100% (112 of 112) |#####| Elapsed Time: 0:00:14 Time:  0:00:14\n",
      "Parsing annotations: 100% (112 of 112) |#| Elapsed Time: 0:00:00 Time:  0:00:00\n"
     ]
    },
    {
     "name": "stdout",
     "output_type": "stream",
     "text": [
      "223 instances of class boat with average precision: 0.5435\n",
      "mAP: 0.5435\n",
      "\n",
      "Epoch 00008: saving model to D:\\notebooks\\RetinanetTutorial\\Output\\Snapshots\\resnet50_pascal_08.h5\n",
      "446/446 [==============================] - 162s 364ms/step - loss: 1.4454 - regression_loss: 1.2203 - classification_loss: 0.2250 - mAP: 0.5435 - lr: 1.0000e-05\n",
      "Epoch 9/50\n",
      "446/446 [==============================] - ETA: 0s - loss: 1.3989 - regression_loss: 1.1454 - classification_loss: 0.2535"
     ]
    },
    {
     "name": "stderr",
     "output_type": "stream",
     "text": [
      "Running network: 100% (112 of 112) |#####| Elapsed Time: 0:00:15 Time:  0:00:15\n",
      "Parsing annotations: 100% (112 of 112) |#| Elapsed Time: 0:00:00 Time:  0:00:00\n"
     ]
    },
    {
     "name": "stdout",
     "output_type": "stream",
     "text": [
      "223 instances of class boat with average precision: 0.5642\n",
      "mAP: 0.5642\n",
      "\n",
      "Epoch 00009: saving model to D:\\notebooks\\RetinanetTutorial\\Output\\Snapshots\\resnet50_pascal_09.h5\n",
      "446/446 [==============================] - 164s 368ms/step - loss: 1.3989 - regression_loss: 1.1454 - classification_loss: 0.2535 - mAP: 0.5642 - lr: 1.0000e-05\n",
      "Epoch 10/50\n",
      "446/446 [==============================] - ETA: 0s - loss: 1.3617 - regression_loss: 1.1134 - classification_loss: 0.2483"
     ]
    },
    {
     "name": "stderr",
     "output_type": "stream",
     "text": [
      "Running network: 100% (112 of 112) |#####| Elapsed Time: 0:00:14 Time:  0:00:14\n",
      "Parsing annotations: 100% (112 of 112) |#| Elapsed Time: 0:00:00 Time:  0:00:00\n"
     ]
    },
    {
     "name": "stdout",
     "output_type": "stream",
     "text": [
      "223 instances of class boat with average precision: 0.5695\n",
      "mAP: 0.5695\n",
      "\n",
      "Epoch 00010: saving model to D:\\notebooks\\RetinanetTutorial\\Output\\Snapshots\\resnet50_pascal_10.h5\n",
      "446/446 [==============================] - 164s 367ms/step - loss: 1.3617 - regression_loss: 1.1134 - classification_loss: 0.2483 - mAP: 0.5695 - lr: 1.0000e-05\n",
      "Epoch 11/50\n",
      "446/446 [==============================] - ETA: 0s - loss: 1.3499 - regression_loss: 1.1066 - classification_loss: 0.2434"
     ]
    },
    {
     "name": "stderr",
     "output_type": "stream",
     "text": [
      "Running network: 100% (112 of 112) |#####| Elapsed Time: 0:00:14 Time:  0:00:14\n",
      "Parsing annotations: 100% (112 of 112) |#| Elapsed Time: 0:00:00 Time:  0:00:00\n"
     ]
    },
    {
     "name": "stdout",
     "output_type": "stream",
     "text": [
      "223 instances of class boat with average precision: 0.5427\n",
      "mAP: 0.5427\n",
      "\n",
      "Epoch 00011: saving model to D:\\notebooks\\RetinanetTutorial\\Output\\Snapshots\\resnet50_pascal_11.h5\n",
      "446/446 [==============================] - 163s 365ms/step - loss: 1.3499 - regression_loss: 1.1066 - classification_loss: 0.2434 - mAP: 0.5427 - lr: 1.0000e-05\n",
      "Epoch 12/50\n",
      "446/446 [==============================] - ETA: 0s - loss: 1.3685 - regression_loss: 1.0844 - classification_loss: 0.2841"
     ]
    },
    {
     "name": "stderr",
     "output_type": "stream",
     "text": [
      "Running network: 100% (112 of 112) |#####| Elapsed Time: 0:00:14 Time:  0:00:14\n",
      "Parsing annotations: 100% (112 of 112) |#| Elapsed Time: 0:00:00 Time:  0:00:00\n"
     ]
    },
    {
     "name": "stdout",
     "output_type": "stream",
     "text": [
      "223 instances of class boat with average precision: 0.5807\n",
      "mAP: 0.5807\n",
      "\n",
      "Epoch 00012: saving model to D:\\notebooks\\RetinanetTutorial\\Output\\Snapshots\\resnet50_pascal_12.h5\n",
      "446/446 [==============================] - 163s 365ms/step - loss: 1.3685 - regression_loss: 1.0844 - classification_loss: 0.2841 - mAP: 0.5807 - lr: 1.0000e-05\n",
      "Epoch 13/50\n",
      "446/446 [==============================] - ETA: 0s - loss: 1.3041 - regression_loss: 1.0652 - classification_loss: 0.2389"
     ]
    },
    {
     "name": "stderr",
     "output_type": "stream",
     "text": [
      "Running network: 100% (112 of 112) |#####| Elapsed Time: 0:00:14 Time:  0:00:14\n",
      "Parsing annotations: 100% (112 of 112) |#| Elapsed Time: 0:00:00 Time:  0:00:00\n"
     ]
    },
    {
     "name": "stdout",
     "output_type": "stream",
     "text": [
      "223 instances of class boat with average precision: 0.5771\n",
      "mAP: 0.5771\n",
      "\n",
      "Epoch 00013: saving model to D:\\notebooks\\RetinanetTutorial\\Output\\Snapshots\\resnet50_pascal_13.h5\n",
      "446/446 [==============================] - 163s 364ms/step - loss: 1.3041 - regression_loss: 1.0652 - classification_loss: 0.2389 - mAP: 0.5771 - lr: 1.0000e-05\n",
      "Epoch 14/50\n",
      "446/446 [==============================] - ETA: 0s - loss: 1.1914 - regression_loss: 0.9986 - classification_loss: 0.1928"
     ]
    },
    {
     "name": "stderr",
     "output_type": "stream",
     "text": [
      "Running network: 100% (112 of 112) |#####| Elapsed Time: 0:00:14 Time:  0:00:14\n",
      "Parsing annotations: 100% (112 of 112) |#| Elapsed Time: 0:00:00 Time:  0:00:00\n"
     ]
    },
    {
     "name": "stdout",
     "output_type": "stream",
     "text": [
      "223 instances of class boat with average precision: 0.5301\n",
      "mAP: 0.5301\n",
      "\n",
      "Epoch 00014: saving model to D:\\notebooks\\RetinanetTutorial\\Output\\Snapshots\\resnet50_pascal_14.h5\n",
      "446/446 [==============================] - 162s 363ms/step - loss: 1.1914 - regression_loss: 0.9986 - classification_loss: 0.1928 - mAP: 0.5301 - lr: 1.0000e-05\n",
      "Epoch 15/50\n",
      "446/446 [==============================] - ETA: 0s - loss: 1.2508 - regression_loss: 1.0281 - classification_loss: 0.2227"
     ]
    },
    {
     "name": "stderr",
     "output_type": "stream",
     "text": [
      "Running network: 100% (112 of 112) |#####| Elapsed Time: 0:00:14 Time:  0:00:14\n",
      "Parsing annotations: 100% (112 of 112) |#| Elapsed Time: 0:00:00 Time:  0:00:00\n"
     ]
    },
    {
     "name": "stdout",
     "output_type": "stream",
     "text": [
      "223 instances of class boat with average precision: 0.5947\n",
      "mAP: 0.5947\n",
      "\n",
      "Epoch 00015: saving model to D:\\notebooks\\RetinanetTutorial\\Output\\Snapshots\\resnet50_pascal_15.h5\n",
      "446/446 [==============================] - 162s 362ms/step - loss: 1.2508 - regression_loss: 1.0281 - classification_loss: 0.2227 - mAP: 0.5947 - lr: 1.0000e-05\n",
      "Epoch 16/50\n",
      "446/446 [==============================] - ETA: 0s - loss: 1.1754 - regression_loss: 0.9798 - classification_loss: 0.1956"
     ]
    },
    {
     "name": "stderr",
     "output_type": "stream",
     "text": [
      "Running network: 100% (112 of 112) |#####| Elapsed Time: 0:00:14 Time:  0:00:14\n",
      "Parsing annotations: 100% (112 of 112) |#| Elapsed Time: 0:00:00 Time:  0:00:00\n"
     ]
    },
    {
     "name": "stdout",
     "output_type": "stream",
     "text": [
      "223 instances of class boat with average precision: 0.5851\n",
      "mAP: 0.5851\n",
      "\n",
      "Epoch 00016: saving model to D:\\notebooks\\RetinanetTutorial\\Output\\Snapshots\\resnet50_pascal_16.h5\n",
      "446/446 [==============================] - 162s 362ms/step - loss: 1.1754 - regression_loss: 0.9798 - classification_loss: 0.1956 - mAP: 0.5851 - lr: 1.0000e-05\n",
      "Epoch 17/50\n",
      "446/446 [==============================] - ETA: 0s - loss: 1.2019 - regression_loss: 1.0001 - classification_loss: 0.2018"
     ]
    },
    {
     "name": "stderr",
     "output_type": "stream",
     "text": [
      "Running network: 100% (112 of 112) |#####| Elapsed Time: 0:00:14 Time:  0:00:14\n",
      "Parsing annotations: 100% (112 of 112) |#| Elapsed Time: 0:00:00 Time:  0:00:00\n"
     ]
    },
    {
     "name": "stdout",
     "output_type": "stream",
     "text": [
      "223 instances of class boat with average precision: 0.5871\n",
      "mAP: 0.5871\n",
      "\n",
      "Epoch 00017: saving model to D:\\notebooks\\RetinanetTutorial\\Output\\Snapshots\\resnet50_pascal_17.h5\n",
      "446/446 [==============================] - 162s 363ms/step - loss: 1.2019 - regression_loss: 1.0001 - classification_loss: 0.2018 - mAP: 0.5871 - lr: 1.0000e-05\n",
      "Epoch 18/50\n",
      "446/446 [==============================] - ETA: 0s - loss: 1.1577 - regression_loss: 0.9655 - classification_loss: 0.1923"
     ]
    },
    {
     "name": "stderr",
     "output_type": "stream",
     "text": [
      "Running network: 100% (112 of 112) |#####| Elapsed Time: 0:00:14 Time:  0:00:14\n",
      "Parsing annotations: 100% (112 of 112) |#| Elapsed Time: 0:00:00 Time:  0:00:00\n"
     ]
    },
    {
     "name": "stdout",
     "output_type": "stream",
     "text": [
      "223 instances of class boat with average precision: 0.5780\n",
      "mAP: 0.5780\n",
      "\n",
      "Epoch 00018: saving model to D:\\notebooks\\RetinanetTutorial\\Output\\Snapshots\\resnet50_pascal_18.h5\n",
      "446/446 [==============================] - 162s 364ms/step - loss: 1.1577 - regression_loss: 0.9655 - classification_loss: 0.1923 - mAP: 0.5780 - lr: 1.0000e-05\n",
      "Epoch 19/50\n",
      "446/446 [==============================] - ETA: 0s - loss: 1.1382 - regression_loss: 0.9524 - classification_loss: 0.1858"
     ]
    },
    {
     "name": "stderr",
     "output_type": "stream",
     "text": [
      "Running network: 100% (112 of 112) |#####| Elapsed Time: 0:00:14 Time:  0:00:14\n",
      "Parsing annotations: 100% (112 of 112) |#| Elapsed Time: 0:00:00 Time:  0:00:00\n"
     ]
    },
    {
     "name": "stdout",
     "output_type": "stream",
     "text": [
      "223 instances of class boat with average precision: 0.5979\n",
      "mAP: 0.5979\n",
      "\n",
      "Epoch 00019: saving model to D:\\notebooks\\RetinanetTutorial\\Output\\Snapshots\\resnet50_pascal_19.h5\n",
      "446/446 [==============================] - 162s 364ms/step - loss: 1.1382 - regression_loss: 0.9524 - classification_loss: 0.1858 - mAP: 0.5979 - lr: 1.0000e-05\n",
      "Epoch 20/50\n",
      "446/446 [==============================] - ETA: 0s - loss: 1.1540 - regression_loss: 0.9747 - classification_loss: 0.1792"
     ]
    },
    {
     "name": "stderr",
     "output_type": "stream",
     "text": [
      "Running network: 100% (112 of 112) |#####| Elapsed Time: 0:00:14 Time:  0:00:14\n",
      "Parsing annotations: 100% (112 of 112) |#| Elapsed Time: 0:00:00 Time:  0:00:00\n"
     ]
    },
    {
     "name": "stdout",
     "output_type": "stream",
     "text": [
      "223 instances of class boat with average precision: 0.6129\n",
      "mAP: 0.6129\n",
      "\n",
      "Epoch 00020: saving model to D:\\notebooks\\RetinanetTutorial\\Output\\Snapshots\\resnet50_pascal_20.h5\n",
      "446/446 [==============================] - 162s 363ms/step - loss: 1.1540 - regression_loss: 0.9747 - classification_loss: 0.1792 - mAP: 0.6129 - lr: 1.0000e-05\n",
      "Epoch 21/50\n",
      "446/446 [==============================] - ETA: 0s - loss: 1.2582 - regression_loss: 0.9475 - classification_loss: 0.3107"
     ]
    },
    {
     "name": "stderr",
     "output_type": "stream",
     "text": [
      "Running network: 100% (112 of 112) |#####| Elapsed Time: 0:00:14 Time:  0:00:14\n",
      "Parsing annotations: 100% (112 of 112) |#| Elapsed Time: 0:00:00 Time:  0:00:00\n"
     ]
    },
    {
     "name": "stdout",
     "output_type": "stream",
     "text": [
      "223 instances of class boat with average precision: 0.5807\n",
      "mAP: 0.5807\n",
      "\n",
      "Epoch 00021: saving model to D:\\notebooks\\RetinanetTutorial\\Output\\Snapshots\\resnet50_pascal_21.h5\n",
      "\n",
      "Epoch 00021: ReduceLROnPlateau reducing learning rate to 9.999999747378752e-07.\n",
      "446/446 [==============================] - 162s 364ms/step - loss: 1.2582 - regression_loss: 0.9475 - classification_loss: 0.3107 - mAP: 0.5807 - lr: 1.0000e-05\n",
      "Epoch 22/50\n",
      "446/446 [==============================] - ETA: 0s - loss: 0.9441 - regression_loss: 0.7984 - classification_loss: 0.1458"
     ]
    },
    {
     "name": "stderr",
     "output_type": "stream",
     "text": [
      "Running network: 100% (112 of 112) |#####| Elapsed Time: 0:00:14 Time:  0:00:14\n",
      "Parsing annotations: 100% (112 of 112) |#| Elapsed Time: 0:00:00 Time:  0:00:00\n"
     ]
    },
    {
     "name": "stdout",
     "output_type": "stream",
     "text": [
      "223 instances of class boat with average precision: 0.6207\n",
      "mAP: 0.6207\n",
      "\n",
      "Epoch 00022: saving model to D:\\notebooks\\RetinanetTutorial\\Output\\Snapshots\\resnet50_pascal_22.h5\n",
      "446/446 [==============================] - 165s 369ms/step - loss: 0.9441 - regression_loss: 0.7984 - classification_loss: 0.1458 - mAP: 0.6207 - lr: 1.0000e-06\n",
      "Epoch 23/50\n",
      "446/446 [==============================] - ETA: 0s - loss: 0.8734 - regression_loss: 0.7281 - classification_loss: 0.1453"
     ]
    },
    {
     "name": "stderr",
     "output_type": "stream",
     "text": [
      "Running network: 100% (112 of 112) |#####| Elapsed Time: 0:00:14 Time:  0:00:14\n",
      "Parsing annotations: 100% (112 of 112) |#| Elapsed Time: 0:00:00 Time:  0:00:00\n"
     ]
    },
    {
     "name": "stdout",
     "output_type": "stream",
     "text": [
      "223 instances of class boat with average precision: 0.6275\n",
      "mAP: 0.6275\n",
      "\n",
      "Epoch 00023: saving model to D:\\notebooks\\RetinanetTutorial\\Output\\Snapshots\\resnet50_pascal_23.h5\n",
      "446/446 [==============================] - 164s 367ms/step - loss: 0.8734 - regression_loss: 0.7281 - classification_loss: 0.1453 - mAP: 0.6275 - lr: 1.0000e-06\n",
      "Epoch 24/50\n",
      "446/446 [==============================] - ETA: 0s - loss: 0.8085 - regression_loss: 0.7023 - classification_loss: 0.1062"
     ]
    },
    {
     "name": "stderr",
     "output_type": "stream",
     "text": [
      "Running network: 100% (112 of 112) |#####| Elapsed Time: 0:00:14 Time:  0:00:14\n",
      "Parsing annotations: 100% (112 of 112) |#| Elapsed Time: 0:00:00 Time:  0:00:00\n"
     ]
    },
    {
     "name": "stdout",
     "output_type": "stream",
     "text": [
      "223 instances of class boat with average precision: 0.6299\n",
      "mAP: 0.6299\n",
      "\n",
      "Epoch 00024: saving model to D:\\notebooks\\RetinanetTutorial\\Output\\Snapshots\\resnet50_pascal_24.h5\n",
      "446/446 [==============================] - 165s 369ms/step - loss: 0.8085 - regression_loss: 0.7023 - classification_loss: 0.1062 - mAP: 0.6299 - lr: 1.0000e-06\n",
      "Epoch 25/50\n",
      "446/446 [==============================] - ETA: 0s - loss: 0.8969 - regression_loss: 0.6843 - classification_loss: 0.2126"
     ]
    },
    {
     "name": "stderr",
     "output_type": "stream",
     "text": [
      "Running network: 100% (112 of 112) |#####| Elapsed Time: 0:00:14 Time:  0:00:14\n",
      "Parsing annotations: 100% (112 of 112) |#| Elapsed Time: 0:00:00 Time:  0:00:00\n"
     ]
    },
    {
     "name": "stdout",
     "output_type": "stream",
     "text": [
      "223 instances of class boat with average precision: 0.6400\n",
      "mAP: 0.6400\n",
      "\n",
      "Epoch 00025: saving model to D:\\notebooks\\RetinanetTutorial\\Output\\Snapshots\\resnet50_pascal_25.h5\n",
      "446/446 [==============================] - 165s 370ms/step - loss: 0.8969 - regression_loss: 0.6843 - classification_loss: 0.2126 - mAP: 0.6400 - lr: 1.0000e-06\n",
      "Epoch 26/50\n",
      "446/446 [==============================] - ETA: 0s - loss: 0.8101 - regression_loss: 0.6875 - classification_loss: 0.1226"
     ]
    },
    {
     "name": "stderr",
     "output_type": "stream",
     "text": [
      "Running network: 100% (112 of 112) |#####| Elapsed Time: 0:00:14 Time:  0:00:14\n",
      "Parsing annotations: 100% (112 of 112) |#| Elapsed Time: 0:00:00 Time:  0:00:00\n"
     ]
    },
    {
     "name": "stdout",
     "output_type": "stream",
     "text": [
      "223 instances of class boat with average precision: 0.6310\n",
      "mAP: 0.6310\n",
      "\n",
      "Epoch 00026: saving model to D:\\notebooks\\RetinanetTutorial\\Output\\Snapshots\\resnet50_pascal_26.h5\n",
      "\n",
      "Epoch 00026: ReduceLROnPlateau reducing learning rate to 9.999999974752428e-08.\n",
      "446/446 [==============================] - 163s 365ms/step - loss: 0.8101 - regression_loss: 0.6875 - classification_loss: 0.1226 - mAP: 0.6310 - lr: 1.0000e-06\n",
      "Epoch 27/50\n",
      "446/446 [==============================] - ETA: 0s - loss: 0.7943 - regression_loss: 0.6653 - classification_loss: 0.1290"
     ]
    },
    {
     "name": "stderr",
     "output_type": "stream",
     "text": [
      "Running network: 100% (112 of 112) |#####| Elapsed Time: 0:00:15 Time:  0:00:15\n",
      "Parsing annotations: 100% (112 of 112) |#| Elapsed Time: 0:00:00 Time:  0:00:00\n"
     ]
    },
    {
     "name": "stdout",
     "output_type": "stream",
     "text": [
      "223 instances of class boat with average precision: 0.6338\n",
      "mAP: 0.6338\n",
      "\n",
      "Epoch 00027: saving model to D:\\notebooks\\RetinanetTutorial\\Output\\Snapshots\\resnet50_pascal_27.h5\n",
      "446/446 [==============================] - 165s 371ms/step - loss: 0.7943 - regression_loss: 0.6653 - classification_loss: 0.1290 - mAP: 0.6338 - lr: 1.0000e-07\n",
      "Epoch 28/50\n",
      "446/446 [==============================] - ETA: 0s - loss: 0.8041 - regression_loss: 0.6752 - classification_loss: 0.1288"
     ]
    },
    {
     "name": "stderr",
     "output_type": "stream",
     "text": [
      "Running network: 100% (112 of 112) |#####| Elapsed Time: 0:00:15 Time:  0:00:15\n",
      "Parsing annotations: 100% (112 of 112) |#| Elapsed Time: 0:00:00 Time:  0:00:00\n"
     ]
    },
    {
     "name": "stdout",
     "output_type": "stream",
     "text": [
      "223 instances of class boat with average precision: 0.6289\n",
      "mAP: 0.6289\n",
      "\n",
      "Epoch 00028: saving model to D:\\notebooks\\RetinanetTutorial\\Output\\Snapshots\\resnet50_pascal_28.h5\n",
      "446/446 [==============================] - 165s 369ms/step - loss: 0.8041 - regression_loss: 0.6752 - classification_loss: 0.1288 - mAP: 0.6289 - lr: 1.0000e-07\n",
      "Epoch 29/50\n",
      "446/446 [==============================] - ETA: 0s - loss: 0.8054 - regression_loss: 0.6595 - classification_loss: 0.1458"
     ]
    },
    {
     "name": "stderr",
     "output_type": "stream",
     "text": [
      "Running network: 100% (112 of 112) |#####| Elapsed Time: 0:00:14 Time:  0:00:14\n",
      "Parsing annotations: 100% (112 of 112) |#| Elapsed Time: 0:00:00 Time:  0:00:00\n"
     ]
    },
    {
     "name": "stdout",
     "output_type": "stream",
     "text": [
      "223 instances of class boat with average precision: 0.6287\n",
      "mAP: 0.6287\n",
      "\n",
      "Epoch 00029: saving model to D:\\notebooks\\RetinanetTutorial\\Output\\Snapshots\\resnet50_pascal_29.h5\n",
      "\n",
      "Epoch 00029: ReduceLROnPlateau reducing learning rate to 1.0000000116860975e-08.\n",
      "446/446 [==============================] - 164s 367ms/step - loss: 0.8054 - regression_loss: 0.6595 - classification_loss: 0.1458 - mAP: 0.6287 - lr: 1.0000e-07\n",
      "Epoch 30/50\n",
      "446/446 [==============================] - ETA: 0s - loss: 0.9060 - regression_loss: 0.6993 - classification_loss: 0.2067"
     ]
    },
    {
     "name": "stderr",
     "output_type": "stream",
     "text": [
      "Running network: 100% (112 of 112) |#####| Elapsed Time: 0:00:14 Time:  0:00:14\n",
      "Parsing annotations: 100% (112 of 112) |#| Elapsed Time: 0:00:00 Time:  0:00:00\n"
     ]
    },
    {
     "name": "stdout",
     "output_type": "stream",
     "text": [
      "223 instances of class boat with average precision: 0.6255\n",
      "mAP: 0.6255\n",
      "\n",
      "Epoch 00030: saving model to D:\\notebooks\\RetinanetTutorial\\Output\\Snapshots\\resnet50_pascal_30.h5\n",
      "446/446 [==============================] - 166s 372ms/step - loss: 0.9060 - regression_loss: 0.6993 - classification_loss: 0.2067 - mAP: 0.6255 - lr: 1.0000e-08\n"
     ]
    }
   ],
   "source": [
    "os.chdir(r'D:\\notebooks\\RetinanetTutorial/keras-retinanet')\n",
    "%run keras_retinanet\\bin\\train.py --tensorboard-dir D:\\notebooks\\RetinanetTutorial\\Output --snapshot-path D:\\notebooks\\RetinanetTutorial\\Output\\Snapshots --random-transform --steps 446 pascal D:\\notebooks\\RetinanetTutorial\\SAR_Dataset"
   ]
  },
  {
   "cell_type": "code",
   "execution_count": 4,
   "id": "1bde22f2",
   "metadata": {},
   "outputs": [
    {
     "name": "stdout",
     "output_type": "stream",
     "text": [
      "Device mapping:\n",
      "/job:localhost/replica:0/task:0/device:GPU:0 -> device: 0, name: NVIDIA GeForce RTX 2060, pci bus id: 0000:01:00.0, compute capability: 7.5\n",
      "\n"
     ]
    },
    {
     "data": {
      "text/plain": [
       "<tensorflow.python.client.session.Session at 0x18cba024820>"
      ]
     },
     "execution_count": 4,
     "metadata": {},
     "output_type": "execute_result"
    }
   ],
   "source": [
    "import tensorflow.compat.v1 as tf\n",
    "tf.Session(config=tf.ConfigProto(log_device_placement=True))"
   ]
  },
  {
   "cell_type": "code",
   "execution_count": 4,
   "id": "199e37bc",
   "metadata": {},
   "outputs": [
    {
     "data": {
      "text/plain": [
       "True"
      ]
     },
     "execution_count": 4,
     "metadata": {},
     "output_type": "execute_result"
    }
   ],
   "source": [
    "import tensorflow as t\n",
    "t.test.is_built_with_cuda()"
   ]
  },
  {
   "cell_type": "code",
   "execution_count": 31,
   "id": "441b49a1",
   "metadata": {},
   "outputs": [
    {
     "name": "stderr",
     "output_type": "stream",
     "text": [
      "A subdirectory or file D:\\notebooks\\RetinanetTutorial\\RetinanetModels already exists.\n"
     ]
    }
   ],
   "source": [
    "!mkdir D:\\notebooks\\RetinanetTutorial\\RetinanetModels"
   ]
  },
  {
   "cell_type": "code",
   "execution_count": 3,
   "id": "038b23b7",
   "metadata": {},
   "outputs": [
    {
     "name": "stdout",
     "output_type": "stream",
     "text": [
      "WARNING:tensorflow:Compiled the loaded model, but the compiled metrics have yet to be built. `model.compile_metrics` will be empty until you train or evaluate the model.\n"
     ]
    },
    {
     "name": "stderr",
     "output_type": "stream",
     "text": [
      "C:\\Users\\acer\\AppData\\Roaming\\Python\\Python38\\site-packages\\keras\\engine\\functional.py:1410: CustomMaskWarning: Custom mask layers require a config and must override get_config. When loading, the custom mask layer must be passed to the custom_objects argument.\n",
      "  layer_config = serialize_layer_fn(layer)\n"
     ]
    }
   ],
   "source": [
    "os.chdir(r\"D:/notebooks/RetinanetTutorial/keras-retinanet\")\n",
    "%run keras_retinanet\\bin\\convert_model.py D:\\notebooks\\RetinanetTutorial\\RetinanetModels\\trained_model.h5 D:\\notebooks\\RetinanetTutorial\\RetinanetModels\\Inference_model.h5"
   ]
  },
  {
   "cell_type": "code",
   "execution_count": 7,
   "id": "987751ea",
   "metadata": {},
   "outputs": [
    {
     "name": "stdout",
     "output_type": "stream",
     "text": [
      "Overwriting testDetector.py\n"
     ]
    }
   ],
   "source": [
    "%%writefile testDetector.py\n",
    "# %load testDetector.py\n",
    "# Code adapted from https://github.com/fizyr/keras-retinanet\n",
    "# jasperebrown@gmail.com\n",
    "# 2020\n",
    "\n",
    "# This script loads a single image, runs inferencing on it\n",
    "# and saves that image back out with detections overalaid.\n",
    "\n",
    "# You need to set the model_path and image_path below\n",
    "\n",
    "# import keras\n",
    "import keras\n",
    "\n",
    "# import keras_retinanet\n",
    "from keras_retinanet import models\n",
    "from keras_retinanet.utils.image import preprocess_image, resize_image\n",
    "\n",
    "# import miscellaneous modules\n",
    "import cv2\n",
    "import os\n",
    "import numpy as np\n",
    "import time\n",
    "from PIL import Image\n",
    "\n",
    "# set tf backend to allow memory to grow, instead of claiming everything\n",
    "import tensorflow.compat.v1 as tf\n",
    "\n",
    "model_path = 'D:/notebooks/RetinanetTutorial/RetinanetModels/Inference_model.h5'\n",
    "image_path = 'D:/notebooks/s1.jpg'\n",
    "image_output_path = 'D:/notebooks/RetinanetTutorial/SAR_Dataset/detected_images/s2_detected.jpg'\n",
    "confidence_cutoff = 0.5 #Detections below this confidence will be ignored\n",
    "\n",
    "def get_session():\n",
    "    config = tf.ConfigProto()\n",
    "    config.gpu_options.allow_growth = True\n",
    "    return tf.Session(config=config)\n",
    "\n",
    "# use this environment flag to change which GPU to use\n",
    "#os.environ[\"CUDA_VISIBLE_DEVICES\"] = \"1\"\n",
    "\n",
    "# set the modified tf session as backend in keras\n",
    "tf.compat.v1.keras.backend.set_session(get_session())\n",
    "\n",
    "# adjust this to point to your downloaded/trained model\n",
    "# models can be downloaded here: https://github.com/fizyr/keras-retinanet/releases\n",
    "#model_path = os.path.join('..', 'snapshots', 'resnet50_coco_best_v2.1.0.h5')\n",
    "\n",
    "print(\"Loading image from {}\".format(image_path))\n",
    "image = np.asarray(Image.open(image_path).convert('RGB'))\n",
    "image = image[:, :, ::-1].copy()\n",
    "\n",
    "# load retinanet model\n",
    "print(\"Loading Model: {}\".format(model_path))\n",
    "model = models.load_model(model_path, backbone_name='resnet50')\n",
    "\n",
    "#Check that it's been converted to an inference model\n",
    "try:\n",
    "    model = models.convert_model(model)\n",
    "except:\n",
    "    print(\"Model is likely already an inference model\")\n",
    "\n",
    "# load label to names mapping for visualization purposes\n",
    "labels_to_names = {0: 'anamoly'}\n",
    "\n",
    "# copy to draw on\n",
    "draw = image.copy()\n",
    "draw = cv2.cvtColor(draw, cv2.COLOR_BGR2RGB)\n",
    "\n",
    "# Image formatting specific to Retinanet\n",
    "image = preprocess_image(image)\n",
    "image, scale = resize_image(image)\n",
    "\n",
    "# Run the inference\n",
    "start = time.time()\n",
    "\n",
    "boxes, scores, labels = model.predict_on_batch(np.expand_dims(image, axis=0))\n",
    "print(\"processing time: \", time.time() - start)\n",
    "\n",
    "# correct for image scale\n",
    "boxes /= scale\n",
    "\n",
    "# visualize detections\n",
    "for box, score, label in zip(boxes[0], scores[0], labels[0]):\n",
    "    # scores are sorted so we can break\n",
    "    if score < confidence_cutoff:\n",
    "        break\n",
    "\n",
    "    #Add boxes and captions\n",
    "    color = (255, 255, 255)\n",
    "    thickness = 2\n",
    "    b = np.array(box).astype(int)\n",
    "    cv2.rectangle(draw, (b[0], b[1]), (b[2], b[3]), color, thickness, cv2.LINE_AA)\n",
    "\n",
    "    if(label > len(labels_to_names)):\n",
    "        print(\"WARNING: Got unknown label, using 'detection' instead\")\n",
    "        caption = \"Detection {:.3f}\".format(score)\n",
    "    else:\n",
    "        caption = \"{} {:.3f}\".format(labels_to_names[label], score)\n",
    "\n",
    "    cv2.putText(draw, caption, (b[0], b[1] - 10), cv2.FONT_HERSHEY_PLAIN, 1, (0, 0, 0), 2)\n",
    "    cv2.putText(draw, caption, (b[0], b[1] - 10), cv2.FONT_HERSHEY_PLAIN, 1, (255, 255, 255), 1)\n",
    "\n",
    "#Write out image\n",
    "draw = Image.fromarray(draw)\n",
    "draw.save(image_output_path)\n"
   ]
  },
  {
   "cell_type": "code",
   "execution_count": 8,
   "id": "fdc4a83f",
   "metadata": {},
   "outputs": [
    {
     "name": "stdout",
     "output_type": "stream",
     "text": [
      "Loading image from D:/notebooks/s1.jpg\n",
      "Loading Model: D:/notebooks/RetinanetTutorial/RetinanetModels/Inference_model.h5\n",
      "WARNING:tensorflow:No training configuration found in the save file, so the model was *not* compiled. Compile it manually.\n",
      "Model is likely already an inference model\n",
      "processing time:  3.8536810874938965\n"
     ]
    }
   ],
   "source": [
    "os.chdir(r\"D:/notebooks/RetinanetTutorial/keras-retinanet\")\n",
    "%run testDetector.py"
   ]
  },
  {
   "cell_type": "code",
   "execution_count": null,
   "id": "1650391a",
   "metadata": {},
   "outputs": [],
   "source": []
  }
 ],
 "metadata": {
  "kernelspec": {
   "display_name": "gpu",
   "language": "python",
   "name": "gpu"
  },
  "language_info": {
   "codemirror_mode": {
    "name": "ipython",
    "version": 3
   },
   "file_extension": ".py",
   "mimetype": "text/x-python",
   "name": "python",
   "nbconvert_exporter": "python",
   "pygments_lexer": "ipython3",
   "version": "3.8.1"
  }
 },
 "nbformat": 4,
 "nbformat_minor": 5
}
